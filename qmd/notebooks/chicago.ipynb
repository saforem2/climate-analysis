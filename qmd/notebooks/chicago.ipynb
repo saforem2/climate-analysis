{
  "cells": [
    {
      "cell_type": "raw",
      "metadata": {},
      "source": [
        "---\n",
        "callout-appearance: simple\n",
        "editor:\n",
        "  render-on-save: true\n",
        "execute:\n",
        "  freeze: true\n",
        "---"
      ],
      "id": "2e1700f0"
    },
    {
      "cell_type": "markdown",
      "metadata": {},
      "source": [
        "# Chicago Analysis\n"
      ],
      "id": "32080365"
    },
    {
      "cell_type": "code",
      "metadata": {},
      "source": [
        "#| code-fold: true\n",
        "#| code-summary: Imports\n",
        "%matplotlib inline\n",
        "import matplotlib_inline\n",
        "import matplotlib.pyplot as plt\n",
        "import geopandas as gpd\n",
        "import warnings\n",
        "\n",
        "import matplotlib.pyplot as plt\n",
        "\n",
        "# from enrich.console import Console, get_theme\n",
        "matplotlib_inline.backend_inline.set_matplotlib_formats('svg')\n",
        "from ClimRR import get_logger, DATA_DIR, set_plot_style\n",
        "set_plot_style()\n",
        "log = get_logger('ClimRR')\n",
        "from rich.console import Console as rConsole\n",
        "from enrich.style import STYLES\n",
        "from rich.theme import Theme\n",
        "\n",
        "theme = Theme(STYLES)\n",
        "log = get_logger('ClimRR')\n",
        "console = rConsole(theme=theme, log_path=False, markup=True)"
      ],
      "id": "0e101320",
      "execution_count": null,
      "outputs": []
    },
    {
      "cell_type": "code",
      "metadata": {},
      "source": [
        "from ClimRR import load_shapefile, load_csvs\n",
        "\n",
        "shape = load_shapefile()\n",
        "data = load_csvs(shape)"
      ],
      "id": "5e0346e3",
      "execution_count": null,
      "outputs": []
    },
    {
      "cell_type": "code",
      "metadata": {},
      "source": [
        "square = shape[shape[\"Crossmodel\"] == 'R146C497']\n",
        "fig, ax = plt.subplots(figsize=(4, 3))\n",
        "ax = square.boundary.plot(ax=ax)\n",
        "ax.set_axis_off()\n",
        "plt.tight_layout()"
      ],
      "id": "14f11151",
      "execution_count": null,
      "outputs": []
    },
    {
      "cell_type": "code",
      "metadata": {},
      "source": [
        "import geopandas as gpd\n",
        "import geodatasets\n",
        "chipop = gpd.read_file(\n",
        "    geodatasets.get_path('geoda.chicago_commpop')\n",
        ").to_crs(square.crs)\n",
        "chihealth = gpd.read_file(\n",
        "    geodatasets.get_path('geoda.chicago_health')\n",
        ").to_crs(square.crs)\n",
        "chigroc = gpd.read_file(\n",
        "    geodatasets.get_path('geoda.groceries')\n",
        ").to_crs(square.crs)"
      ],
      "id": "7c546ea2",
      "execution_count": null,
      "outputs": []
    },
    {
      "cell_type": "markdown",
      "metadata": {},
      "source": [
        "We can inspect this data, looking at the `chipop.boundary` for example\n"
      ],
      "id": "bbe104cc"
    },
    {
      "cell_type": "code",
      "metadata": {},
      "source": [
        "chipop['boundary'] = chipop.boundary"
      ],
      "id": "c3aab444",
      "execution_count": null,
      "outputs": []
    },
    {
      "cell_type": "code",
      "metadata": {},
      "source": [
        "fig, ax = plt.subplots(figsize=(10, 7))\n",
        "ax = chipop.boundary.plot(linewidth=0.8, color='#838383', ax=ax)\n",
        "ax.set_axis_off()\n",
        "_ = ax.set_title('Chicago Neighborhoods')"
      ],
      "id": "55736272",
      "execution_count": null,
      "outputs": []
    },
    {
      "cell_type": "markdown",
      "metadata": {},
      "source": [
        "Which we can use to plot the population (by neighborhood, in  this case):\n"
      ],
      "id": "1df4fac8"
    },
    {
      "cell_type": "code",
      "metadata": {},
      "source": [
        "fig, ax = plt.subplots(figsize=(10, 7))\n",
        "ax = chipop.to_crs(square.crs).plot(column=\"POP2010\", legend=True, ax=ax)\n",
        "ax.set_axis_off()\n",
        "_ = ax.set_title(f\"Chicago population by Neighborhood [2010]\")"
      ],
      "id": "e72a6cb9",
      "execution_count": null,
      "outputs": []
    },
    {
      "cell_type": "code",
      "metadata": {},
      "source": [
        "wtown = chipop[chipop[\"community\"] == 'WEST TOWN']\n",
        "humboldt = chipop[chipop[\"community\"] == 'HUMBOLDT PARK']"
      ],
      "id": "647beca0",
      "execution_count": null,
      "outputs": []
    },
    {
      "cell_type": "code",
      "metadata": {},
      "source": [
        "humboldt.explore()"
      ],
      "id": "7060fd28",
      "execution_count": null,
      "outputs": []
    },
    {
      "cell_type": "code",
      "metadata": {},
      "source": [
        "fig, ax = plt.subplots(figsize=(10, 7))\n",
        "ax = humboldt.overlay(shape, how='intersection').plot(ax=ax, legend=True)\n",
        "ax = (\n",
        "    hp := chipop[chipop['community'] == 'HUMBOLDT PARK'].overlay(\n",
        "        shape,\n",
        "        how='intersection'\n",
        "    )\n",
        ").plot(ax=ax, legend=True)\n",
        "ax = (\n",
        "    lp := chipop[chipop['community'] == 'LINCOLN PARK'].overlay(\n",
        "        shape,\n",
        "        how='intersection'\n",
        "    )\n",
        ").plot(ax=ax, legend=True)\n",
        "ax = chipop.boundary.plot(ax=ax, color='#666666', linewidth=0.8)\n",
        "ax = lp.boundary.plot(color='red', ax=ax)\n",
        "ax = hp.boundary.plot(color='red', ax=ax)\n",
        "ax.set_axis_off()\n",
        "_ = ax.set_title('Intersection of Humboldt Park & ClimRR data')"
      ],
      "id": "4e8eea84",
      "execution_count": null,
      "outputs": []
    },
    {
      "cell_type": "code",
      "metadata": {},
      "source": [
        "fig, ax = plt.subplots(figsize=(10, 7))\n",
        "chiwind = data['WindSpeed'].overlay(\n",
        "    chipop,\n",
        "    how='intersection'\n",
        ").overlay(chipop, how='union')\n",
        "ax = chiwind.boundary.plot(ax=ax, color='#666666', linewidth=0.8)\n",
        "ax.set_axis_off()"
      ],
      "id": "8fa827a7",
      "execution_count": null,
      "outputs": []
    },
    {
      "cell_type": "code",
      "metadata": {},
      "source": [
        "_, ax = plt.subplots(figsize=(10, 7))\n",
        "ax = chipop.boundary.plot(color='#666666', linewidth=0.8, ax=ax, alpha=0.2)\n",
        "ax = chiwind.plot(column='hist', ax=ax, legend=True)\n",
        "ax.set_axis_off()\n",
        "ax.set_title('Historical Wind Data across Chicago Neighborhoods')\n",
        "plt.tight_layout()"
      ],
      "id": "c677c5f4",
      "execution_count": null,
      "outputs": []
    },
    {
      "cell_type": "code",
      "metadata": {},
      "source": [
        "chiwind.explore(column='hist')"
      ],
      "id": "4aa2c5be",
      "execution_count": null,
      "outputs": []
    },
    {
      "cell_type": "code",
      "metadata": {},
      "source": [
        "_, ax = plt.subplots()\n",
        "ax = chiwind.plot(column='hist', scheme='quantiles', k=8, ax=ax)\n",
        "_ = ax.set_title('WindSpeed, historical')\n",
        "ax.set_axis_off()\n",
        "plt.tight_layout()"
      ],
      "id": "4af70616",
      "execution_count": null,
      "outputs": []
    },
    {
      "cell_type": "code",
      "metadata": {},
      "source": [
        "fig, ax = plt.subplots()\n",
        "ax = chiwind.plot(column='rcp45_midc', scheme='quantiles', k=3, ax=ax)\n",
        "ax.set_axis_off()\n",
        "_ = ax.set_title('WindSpeed, Mid-Century [RCP45]')\n",
        "plt.tight_layout()"
      ],
      "id": "79b44c46",
      "execution_count": null,
      "outputs": []
    },
    {
      "cell_type": "code",
      "metadata": {},
      "source": [
        "fig, ax = plt.subplots()\n",
        "ax = chiwind.plot(column='rcp45_endc', scheme='quantiles', k=3, ax=ax)\n",
        "_ = ax.set_title('WindSpeed, End-Century [RCP45]')\n",
        "plt.tight_layout()"
      ],
      "id": "cfa86462",
      "execution_count": null,
      "outputs": []
    },
    {
      "cell_type": "code",
      "metadata": {},
      "source": [
        "fig, ax = plt.subplots(ncols=3, figsize=(16, 7))\n",
        "ax0 = chiwind.plot('hist', ax=ax[0])\n",
        "ax1 = chiwind.plot('rcp45_midc', ax=ax[1])\n",
        "ax2 = chiwind.plot('rcp45_midc', ax=ax[2])\n",
        "ax0.set_axis_off()\n",
        "ax1.set_axis_off()\n",
        "ax2.set_axis_off()"
      ],
      "id": "6f5f7155",
      "execution_count": null,
      "outputs": []
    },
    {
      "cell_type": "code",
      "metadata": {},
      "source": [
        "data['WindSpeed'].shape"
      ],
      "id": "9acd60df",
      "execution_count": null,
      "outputs": []
    },
    {
      "cell_type": "code",
      "metadata": {},
      "source": [
        "selection = shape[0:5]\n",
        "\n",
        "for index, row in selection.iterrows():\n",
        "    # get the area of the polygon\n",
        "    poly_area = row['geometry'].area\n",
        "    console.print(f\"Polygon area at {index} is {poly_area:.3f}\")"
      ],
      "id": "6a923faa",
      "execution_count": null,
      "outputs": []
    }
  ],
  "metadata": {
    "kernelspec": {
      "name": "climrr",
      "language": "python",
      "display_name": "ClimRR [py3.11-CPU]"
    }
  },
  "nbformat": 4,
  "nbformat_minor": 5
}