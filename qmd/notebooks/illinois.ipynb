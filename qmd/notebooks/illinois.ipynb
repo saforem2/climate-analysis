{
  "cells": [
    {
      "cell_type": "raw",
      "metadata": {},
      "source": [
        "---\n",
        "callout-appearance: simple\n",
        "editor:\n",
        "  render-on-save: true\n",
        "execute:\n",
        "  freeze: true\n",
        "---"
      ],
      "id": "4ae948de"
    },
    {
      "cell_type": "markdown",
      "metadata": {},
      "source": [
        "# Continued Analysis\n"
      ],
      "id": "d5ac0d65"
    },
    {
      "cell_type": "code",
      "metadata": {},
      "source": [
        "import matplotlib.pyplot as plt\n",
        "import geopandas as gpd\n",
        "from ClimRR import set_plot_style, get_logger\n",
        "set_plot_style()\n",
        "from enrich.style import STYLES\n",
        "from rich.theme import Theme\n",
        "from rich.console import Console\n",
        "theme = Theme(STYLES)\n",
        "log = get_logger('ClimRR')\n",
        "console = Console(theme=theme, log_path=False, markup=True)"
      ],
      "id": "2688b082",
      "execution_count": null,
      "outputs": []
    },
    {
      "cell_type": "code",
      "metadata": {},
      "source": [
        "from ClimRR import load_shapefile, load_csvs, load_counties, load_chicago_data\n",
        "shape = load_shapefile()\n",
        "data = load_csvs(shape)\n",
        "chidata = load_chicago_data(shape.crs)"
      ],
      "id": "5b71ed7f",
      "execution_count": null,
      "outputs": []
    },
    {
      "cell_type": "code",
      "metadata": {},
      "source": [
        "counties = load_counties(shape.crs)"
      ],
      "id": "5f8f708f",
      "execution_count": null,
      "outputs": []
    },
    {
      "cell_type": "code",
      "metadata": {},
      "source": [
        "illinois = counties[counties[\"ste_name\"] == \"['Illinois']\"]\n",
        "wind_il = data[\"WindSpeed\"].overlay(illinois, how='intersection')"
      ],
      "id": "f44aebeb",
      "execution_count": null,
      "outputs": []
    },
    {
      "cell_type": "code",
      "metadata": {},
      "source": [
        "%matplotlib inline"
      ],
      "id": "472cfa21",
      "execution_count": null,
      "outputs": []
    },
    {
      "cell_type": "code",
      "metadata": {},
      "source": [
        "fig, ax = plt.subplots(figsize=(10, 7))\n",
        "plt.show()\n",
        "wind_il.plot(ax=ax, column='hist', legend=True)\n",
        "ax.set_axis_off()"
      ],
      "id": "f0b6c922",
      "execution_count": null,
      "outputs": []
    },
    {
      "cell_type": "markdown",
      "metadata": {},
      "source": [
        "```{python}`\n"
      ],
      "id": "54e33fb4"
    }
  ],
  "metadata": {
    "kernelspec": {
      "name": "climrr",
      "language": "python",
      "display_name": "ClimRR [py3.11-CPU]"
    }
  },
  "nbformat": 4,
  "nbformat_minor": 5
}