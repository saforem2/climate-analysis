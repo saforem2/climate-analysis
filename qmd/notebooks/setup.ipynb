{
  "cells": [
    {
      "cell_type": "raw",
      "metadata": {},
      "source": [
        "---\n",
        "callout-appearance: simple\n",
        "editor:\n",
        "  render-on-save: true\n",
        "execute:\n",
        "  freeze: true\n",
        "---"
      ],
      "id": "90bd1330"
    },
    {
      "cell_type": "markdown",
      "metadata": {},
      "source": [
        "# Getting Started\n",
        "\n",
        "To install / setup your environment to run the code for this project we need to\n",
        "\n",
        "1. Clone the {{< fa brands github >}} [Github\n",
        "   repo](https://github.com/saforem2/climate-analysis)\n",
        "   ```bash\n",
        "   git clone https://github.com/saforem2/climate-analysis\n",
        "   cd ./climate-analysis/\n",
        "   ```\n",
        "\n",
        "2. Create a virtual environment (`venv`)[^1] and install `ClimRR` into it[^2]:\n",
        "   ```bash\n",
        "   # ------------------------------------------------------------\n",
        "   # 1. Make a directory where the venv will live\n",
        "   mkdir -p ./venvs/ClimRR\n",
        "   # 2. Create a virtual environment with `python3 -m venv`\n",
        "   python3 -m venv ./venvs/ClimRR --system-site-packages\n",
        "   # 3. Install the python package as an editable install (`-e`)\n",
        "   # ------------------------------------------------------------\n",
        "   python3 -m pip install -e \".[dev]\"\n",
        "   # 4. Verify the package was installed correctly\n",
        "   python3 -c 'import ClimRR ; print(ClimRR.__file__)'\n",
        "   # should print something like:\n",
        "   # /Users/samforeman/projects/saforem2/climate-analysis/src/ClimRR/__init__.py\n",
        "   ```\n",
        "\n",
        "[^1]: The `--system-site-packages` flag tells python to include the libraries\n",
        "from our system-wide install in this `venv`\n",
        "\n",
        "[^2]: \n",
        "      Installation options:\n",
        "\n",
        "      - the `-e` flag tells python to perform an _editable_ install (i.e. install\n",
        "      package from its path, `.`, in this case)\n",
        "      - the `.[dev]` option says to install the package located here (`.`),\n",
        "      including the development extensions specified in the\n",
        "      [`pyproject.toml`](https://github.com/saforem2/climate-analysis/blob/main/pyproject.toml)"
      ],
      "id": "f719b0a8"
    }
  ],
  "metadata": {
    "kernelspec": {
      "name": "climrr",
      "language": "python",
      "display_name": "ClimRR [py3.11-CPU]"
    }
  },
  "nbformat": 4,
  "nbformat_minor": 5
}