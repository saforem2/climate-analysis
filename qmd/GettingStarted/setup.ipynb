{
  "cells": [
    {
      "cell_type": "raw",
      "metadata": {},
      "source": [
        "---\n",
        "callout-appearance: simple\n",
        "editor:\n",
        "  render-on-save: true\n",
        "execute:\n",
        "  freeze: true\n",
        "---"
      ],
      "id": "ea3def7f"
    },
    {
      "cell_type": "markdown",
      "metadata": {},
      "source": [
        "# Getting Started\n",
        "\n",
        "To install / setup your environment to run the code for this project we need to\n",
        "\n",
        "1. Download the data\n",
        "2. Install the `CLimRR` python package\n",
        "\n",
        "which we describe below.\n",
        "\n",
        "## Download the Data\n",
        "\n",
        "The data is available as a `*.zip` file with everything you will need to get started.\n",
        "\n",
        "::: {.callout-important title=\"Download Data\" collapse=\"true\" style=\"width:100%; place-self: end;\"}\n",
        "\n",
        "- [ClimRR Data Download (ANL)](https://anl.box.com/s/hmkkgkrkzxxocfe9kpgrzk2gfc4gizp8)\n",
        "- [Counties - United States of America](https://public.opendatasoft.com/explore/dataset/georef-united-states-of-america-county/export/?disjunctive.ste_code&disjunctive.ste_name&disjunctive.coty_code&disjunctive.coty_name&sort=year&dataChart=eyJxdWVyaWVzIjpbeyJjb25maWciOnsiZGF0YXNldCI6Imdlb3JlZi11bml0ZWQtc3RhdGVzLW9mLWFtZXJpY2EtY291bnR5Iiwib3B0aW9ucyI6eyJkaXNqdW5jdGl2ZS5zdGVfY29kZSI6dHJ1ZSwiZGlzanVuY3RpdmUuc3RlX25hbWUiOnRydWUsImRpc2p1bmN0aXZlLmNvdHlfY29kZSI6dHJ1ZSwiZGlzanVuY3RpdmUuY290eV9uYW1lIjp0cnVlLCJzb3J0IjoieWVhciJ9fSwiY2hhcnRzIjpbeyJhbGlnbk1vbnRoIjp0cnVlLCJ0eXBlIjoibGluZSIsImZ1bmMiOiJDT1VOVCIsInNjaWVudGlmaWNEaXNwbGF5Ijp0cnVlLCJjb2xvciI6IiNGRjUxNUEifV0sInhBeGlzIjoieWVhciIsIm1heHBvaW50cyI6IiIsInRpbWVzY2FsZSI6InllYXIiLCJzb3J0IjoiIn1dLCJkaXNwbGF5TGVnZW5kIjp0cnVlLCJhbGlnbk1vbnRoIjp0cnVlfQ%3D%3D)\n",
        "\n",
        ":::\n",
        "\n",
        "1. Clone the {{< fa brands github >}} [Github\n",
        "   repo](https://github.com/saforem2/climate-analysis)\n",
        "   ```bash\n",
        "   git clone https://github.com/saforem2/climate-analysis\n",
        "   cd ./climate-analysis/\n",
        "   ```\n",
        "\n",
        "2. Create a virtual environment (`venv`)[^1] and install `ClimRR` into it[^2]:\n",
        "   ```bash\n",
        "   # ------------------------------------------------------------\n",
        "   # 1. Make a directory where the venv will live\n",
        "   mkdir -p ./venvs/ClimRR\n",
        "   # 2. Create a virtual environment with `python3 -m venv`\n",
        "   python3 -m venv ./venvs/ClimRR --system-site-packages\n",
        "   # 3. Install the python package as an editable install (`-e`)\n",
        "   # ------------------------------------------------------------\n",
        "   python3 -m pip install -e \".[dev]\"\n",
        "   # 4. Verify the package was installed correctly\n",
        "   python3 -c 'import ClimRR ; print(ClimRR.__file__)'\n",
        "   # should print something like:\n",
        "   # /Users/samforeman/projects/saforem2/climate-analysis/src/ClimRR/__init__.py\n",
        "   ```\n",
        "\n",
        "[^1]: The `--system-site-packages` flag tells python to include the libraries\n",
        "from our system-wide install in this `venv`\n",
        "\n",
        "[^2]: \n",
        "      Installation options:\n",
        "\n",
        "      - the `-e` flag tells python to perform an _editable_ install (i.e. install\n",
        "      package from its path, `.`, in this case)\n",
        "      - the `.[dev]` option says to install the package located here (`.`),\n",
        "      including the development extensions specified in the\n",
        "      [`pyproject.toml`](https://github.com/saforem2/climate-analysis/blob/main/pyproject.toml)"
      ],
      "id": "b9249cb7"
    }
  ],
  "metadata": {
    "kernelspec": {
      "name": "climrr",
      "language": "python",
      "display_name": "ClimRR [py3.11-CPU]"
    }
  },
  "nbformat": 4,
  "nbformat_minor": 5
}