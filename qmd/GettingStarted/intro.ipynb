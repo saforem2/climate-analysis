{
  "cells": [
    {
      "cell_type": "raw",
      "metadata": {},
      "source": [
        "---\n",
        "callout-appearance: simple\n",
        "editor:\n",
        "  render-on-save: true\n",
        "execute:\n",
        "  freeze: true\n",
        "---"
      ],
      "id": "8ad6563d"
    },
    {
      "cell_type": "markdown",
      "metadata": {},
      "source": [
        "# Climate Analysis with ClimRR\n",
        "\n",
        "## Getting Started\n",
        "\n",
        "### Reading and Writing Files\n",
        "\n",
        "We use [`GeoPandas`](https://geopandas.org/en/stable/index.html), an open\n",
        "source project to make working with geospatial data in python easier.\n",
        "\n",
        "GeoPandas extends the datatypes used by [pandas](http://pandas.pydata.org/) to\n",
        "allow spatial operations on geometric types.\n",
        "\n",
        "Geometric operations are performed by [`shapely`](https://shapely.readthedocs.io/).\n",
        "\n",
        "GeoPandas further depends on [`fiona`](https://fiona.readthedocs.io/) and\n",
        "[`matplotlib`](http://matplotlib.org/) for plotting.\n",
        "\n",
        "GeoPandas can read almost any vector-based spatial data format including ESRI\n",
        "shapefile, GeoJSON files and more using the command\n",
        "\n",
        "```python\n",
        "import geopandas as gpd\n",
        "gpd.read_file()\n",
        "```\n",
        "\n",
        "which returns a GeoDataFrame object.\n",
        "\n",
        "A `GeoDataFrame` is a tabular data structure that contains a `GeoSeries`.\n",
        "\n",
        "The most important property of a `GeoDataFrame` is that it always has one\n",
        "`GeoSeries` column that holds a special status.\n",
        "\n",
        "This `GeoSeries` is referred to as the `GeoDataFrame`'s \"geometry\". When a\n",
        "spatial method is applied to a `GeoDataFrame` (or a spatial attribute like area\n",
        "is called), this commands will always act on the \"geometry\" column[^geometry].\n",
        "\n",
        "[^geometry]: The “geometry” column – no matter its name – can be accessed\n",
        "through the geometry attribute (`gdf.geometry`), and the name of the geometry\n",
        "column can be found by typing `gdf.geometry.name`.\n",
        "\n",
        "### Imports / setup\n",
        "\n",
        "We've prepared some helper functions inside\n",
        "[`src/ClimRR/__init__.py`](https://github.com/saforem2/climate-analysis/blob/main/src/ClimRR/__init__.py)\n",
        "to simplify some of the data analysis tasks.\n",
        "\n",
        "\n",
        "::: {.callout-warning title=\"Warning\" collapse=\"false\"}\n",
        "Make sure to follow the instructions from [Setup and\n",
        "Installation](/qmd/GettingStarted/setup.qmd) for installing the `ClimRR`\n",
        "package.\n",
        "\n",
        ":::\n"
      ],
      "id": "da64f6ca"
    },
    {
      "cell_type": "code",
      "metadata": {},
      "source": [
        "#| code-fold: true\n",
        "#| code-summary: Imports\n",
        "import matplotlib_inline\n",
        "import matplotlib.pyplot as plt\n",
        "import geopandas as gpd\n",
        "import warnings\n",
        "\n",
        "import matplotlib.pyplot as plt\n",
        "\n",
        "from enrich.style import STYLES\n",
        "from rich.theme import Theme\n",
        "from rich.console import Console as Console\n",
        "from ClimRR import get_logger, DATA_DIR, set_plot_style\n",
        "\n",
        "matplotlib_inline.backend_inline.set_matplotlib_formats('svg')\n",
        "\n",
        "set_plot_style()\n",
        "theme = Theme(STYLES)\n",
        "log = get_logger()\n",
        "console = Console(\n",
        "    theme=Theme(STYLES),\n",
        "    log_path=False,\n",
        "    markup=True,\n",
        "    width=512\n",
        ")"
      ],
      "id": "bada4b33",
      "execution_count": null,
      "outputs": []
    },
    {
      "cell_type": "markdown",
      "metadata": {},
      "source": [
        "# Data Organization\n",
        "\n",
        "The [ClimRR Data](https://anl.box.com/s/hmkkgkrkzxxocfe9kpgrzk2gfc4gizp8) can\n",
        "be downloaded as a `*.zip` file, and contains:\n",
        "- **Shapefile** (as an additional `*.zip` _inside_ the original)\n",
        "- Individual `*.csv`'s for each of the climate variables\n",
        "    - `{AnnualTemperatureMaximum,AnnualTemperatureMinimum,...,HeatingDegreeDays}.csv`\n",
        "\n",
        "::: {.callout-tip title=\"`*.zip` contents:\" collapse=\"true\"}\n",
        "\n",
        "```bash\n",
        "📂 ClimRR Data Download/\n",
        "┣━━ 📂 GridCells2Shapefile/\n",
        "┃   ┣━━ 📄 GridCells2.cpg\n",
        "┃   ┣━━ 📄 GridCells2.dbf\n",
        "┃   ┣━━ 📄 GridCells2.prj\n",
        "┃   ┣━━ 📄 GridCells2.sbn\n",
        "┃   ┣━━ 📄 GridCells2.sbx\n",
        "┃   ┣━━ 📄 GridCells2.shp\n",
        "┃   ┣━━ 📄 GridCells2.shp.xml\n",
        "┃   ┗━━ 📄 GridCells2.shx\n",
        "┣━━ 📂 GridCellsShapefile/\n",
        "┃   ┣━━ 📄 GridCells.cpg\n",
        "┃   ┣━━ 📄 GridCells.dbf\n",
        "┃   ┣━━ 📄 GridCells.prj\n",
        "┃   ┣━━ 📄 GridCells.sbn\n",
        "┃   ┣━━ 📄 GridCells.sbx\n",
        "┃   ┣━━ 📄 GridCells.shp\n",
        "┃   ┣━━ 📄 GridCells.shp.xml\n",
        "┃   ┗━━ 📄 GridCells.shx\n",
        "┣━━ 📄 AnnualTemperatureMaximum.csv\n",
        "┣━━ 📄 AnnualTemperatureMinimum.csv\n",
        "┣━━ 📄 ClimRR Metadata and Data Dictionary.pdf\n",
        "┣━━ 📄 ConsecutiveDayswithNoPrecipitation.csv\n",
        "┣━━ 📄 FireWeatherIndex_Wildfire.csv\n",
        "┣━━ 📄 GridCells2Shapefile.zip\n",
        "┣━━ 📄 GridCellsShapefile.zip\n",
        "┣━━ 📄 HeatingDegreeDays.csv\n",
        "┣━━ 📄 Precipitation_inches_AnnualTotal.csv\n",
        "┣━━ 📄 README.txt\n",
        "┣━━ 📄 SeasonalTemperatureMaximum.csv\n",
        "┣━━ 📄 SeasonalTemperatureMinimum.csv\n",
        "┗━━ 📄 WindSpeed.csv\n",
        "```\n",
        "\n",
        "\n",
        "\n",
        ":::\n",
        "\n",
        "## Load Shapefile and inspect\n",
        "\n",
        "A `shapefile` is provided in the [ClimRR Data Download\n",
        "(ANL)](https://anl.box.com/s/hmkkgkrkzxxocfe9kpgrzk2gfc4gizp8) and can be loaded using `geopandas.read_file(...)` which will return a `geopandas.GeoDataFrame`:\n"
      ],
      "id": "631f6604"
    },
    {
      "cell_type": "code",
      "metadata": {},
      "source": [
        "shpfile = DATA_DIR.joinpath(\n",
        "    \"GridCells2Shapefile/GridCellsShapefile/GridCells.shp\"\n",
        ")\n",
        "shape = gpd.read_file(shpfile)"
      ],
      "id": "aa406eab",
      "execution_count": null,
      "outputs": []
    },
    {
      "cell_type": "markdown",
      "metadata": {},
      "source": [
        "Each entry in this table defines a single **grid cell** (12km x 12 km) which\n",
        "collectively tile the United States.\n",
        "\n",
        "We can get a better understanding of whats going on by looking at the first few\n",
        "entries:\n"
      ],
      "id": "f7db92ef"
    },
    {
      "cell_type": "code",
      "metadata": {},
      "source": [
        "shape.head(n=2)"
      ],
      "id": "4c6752bd",
      "execution_count": null,
      "outputs": []
    },
    {
      "cell_type": "markdown",
      "metadata": {},
      "source": [
        "We see that each row has the following columns: `{OBJECTID, Crossmodel,\n",
        "Shape_Leng, Shape_Area, geometry}`.\n",
        "\n",
        "In particular, the `Crossmodel`[^crossmodel] column is a text ID that uniquely\n",
        "identifies an individual cell.\n",
        "\n",
        "[^crossmodel]: Truncated name for \"Crossmodel_CellName\".\n",
        "\n",
        "To be explicit, let's look at the `WindSpeed.csv` file.\n",
        "\n",
        "\n",
        "## Dealing with Geometry\n",
        "\n",
        "Our shapefile contains a grid of _cells_ (12km x 12km) which tile the\n",
        "continental US.\n",
        "\n",
        "We can inspect a single cell:\n"
      ],
      "id": "57eb220f"
    },
    {
      "cell_type": "code",
      "metadata": {},
      "source": [
        "cell = shape[shape[\"Crossmodel\"] == 'R146C497']\n",
        "cell.head()"
      ],
      "id": "9aa11b2b",
      "execution_count": null,
      "outputs": []
    },
    {
      "cell_type": "code",
      "metadata": {},
      "source": [
        "ax = cell.boundary.plot()\n",
        "ax.set_axis_off()\n",
        "_ = ax.set_title('Grid from shapefile: 12 x 12 km')\n",
        "plt.tight_layout()"
      ],
      "id": "04eef791",
      "execution_count": null,
      "outputs": []
    },
    {
      "cell_type": "code",
      "metadata": {},
      "source": [
        "cell.explore()"
      ],
      "id": "027a98f8",
      "execution_count": null,
      "outputs": []
    },
    {
      "cell_type": "markdown",
      "metadata": {},
      "source": [
        "## Load data from `*.csv` files\n",
        "\n",
        "Each entry (row) in the `.csv` has a `Crossmodel` column (e.g. `R146C497`)\n",
        "which corresponds to a row in our `shapefile` that uniquely determines its\n",
        "location on the Earth.\n",
        "\n",
        "We can associate with each of the `.csv`s the `geometry` used in our\n",
        "`shapefile` to position our data on the globe.\n"
      ],
      "id": "eebc2ff9"
    },
    {
      "cell_type": "code",
      "metadata": {},
      "source": [
        "import pandas as pd\n",
        "csvs = [i for i in DATA_DIR.joinpath('csv').rglob('*.csv')]\n",
        "data = {}\n",
        "for f in csvs:\n",
        "    key = f.stem\n",
        "    tmp = pd.read_csv(f.as_posix())\n",
        "    gdf = shape.merge(tmp, on='Crossmodel')\n",
        "    gdf['boundary'] = gdf.boundary\n",
        "    gdf['centroid'] = gdf.centroid\n",
        "    data[key] = gdf\n",
        "    console.log(f\"data['{key}'].shape={data[key].shape}\")"
      ],
      "id": "87433a7e",
      "execution_count": null,
      "outputs": []
    },
    {
      "cell_type": "markdown",
      "metadata": {},
      "source": [
        "## Look at the WindSpeed data\n",
        "\n",
        "Lets inspect one of the entries in our `data[(...)]` dictionary, `WindSpeed`, for example:\n"
      ],
      "id": "64259946"
    },
    {
      "cell_type": "code",
      "metadata": {},
      "source": [
        "data[\"WindSpeed\"].head()"
      ],
      "id": "ff7c0ce2",
      "execution_count": null,
      "outputs": []
    },
    {
      "cell_type": "markdown",
      "metadata": {},
      "source": [
        "We see that each entry has a `geometry` column, as well as columns for\n",
        "`{hist,rcp45_midc, rcp45_endc, rcp85_midc, rcp85_endc, ...}` which contains the\n",
        "numerical value of the `WindSpeed` in each cell under different scenarios at\n",
        "different points in time.\n",
        "\n",
        "<!-- We can see this explicitly by plotting this value for a single cell: -->\n",
        "\n",
        "Let's look at the `WindSpeed` for our individual cell:\n"
      ],
      "id": "a4b37402"
    },
    {
      "cell_type": "code",
      "metadata": {},
      "source": [
        "cell_wind = data[\"WindSpeed\"][data[\"WindSpeed\"][\"Crossmodel\"] == 'R146C497']"
      ],
      "id": "77c2639a",
      "execution_count": null,
      "outputs": []
    },
    {
      "cell_type": "code",
      "metadata": {},
      "source": [
        "ax = cell_wind.plot(column='hist', legend=True)\n",
        "ax.set_axis_off()\n",
        "_ = ax.set_title(\"WindSpeed [Hist] for CELL: R146C497\")"
      ],
      "id": "2c1689dd",
      "execution_count": null,
      "outputs": []
    },
    {
      "cell_type": "markdown",
      "metadata": {},
      "source": [
        "## Visualizing our Data\n",
        "\n",
        "Lets inspect the first few entries from our Shapefile:\n",
        "\n",
        "::: {#fig-increasing-cells style=\"text-align:left!important;\"}\n"
      ],
      "id": "34445dad"
    },
    {
      "cell_type": "code",
      "metadata": {},
      "source": [
        "#| code-fold: true\n",
        "fig, ax = plt.subplots(\n",
        "    figsize=(12, 3.5),\n",
        "    nrows=1,\n",
        "    ncols=3,\n",
        "    sharey='row'\n",
        ")\n",
        "ax = ax.flatten()\n",
        "pairs = {\n",
        "    '1k': list(range(1000)),\n",
        "    '5k': list(range(5000)),\n",
        "    '20k': list(range(20000)),\n",
        "}\n",
        "for idx, (key, val) in enumerate(pairs.items()):\n",
        "    ax[idx] = shape.loc[val, :].plot(ax=ax[idx])\n",
        "    ax[idx].set_axis_off()\n",
        "    _ = ax[idx].set_title(f\"First {key} cells\")\n",
        "plt.tight_layout()"
      ],
      "id": "9794c771",
      "execution_count": null,
      "outputs": []
    },
    {
      "cell_type": "markdown",
      "metadata": {},
      "source": [
        "As we include more cells, we see the outline of the US beginning to take shape.\n",
        ":::\n",
        "\n",
        "\n",
        "[^venv]:\n",
        "    Preferably, inside a virtual environment, e.g.\n",
        "    ```bash\n",
        "    $ mkdir -p ~/.venvs/ClimRR\n",
        "    $ python3 -m venv ~/.venvs/ClimRR --system-site-packages\n",
        "    $ source ~/.venvs/ClimRR/bin/activate\n",
        "    $ python3 -m pip install git+https://github.com/saforem2/climate-analysis\n",
        "    ```"
      ],
      "id": "8db06614"
    }
  ],
  "metadata": {
    "kernelspec": {
      "name": "climrr",
      "language": "python",
      "display_name": "ClimRR [py3.11-CPU]"
    }
  },
  "nbformat": 4,
  "nbformat_minor": 5
}