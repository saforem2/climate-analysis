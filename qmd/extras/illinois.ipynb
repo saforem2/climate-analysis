{
  "cells": [
    {
      "cell_type": "raw",
      "metadata": {},
      "source": [
        "---\n",
        "callout-appearance: simple\n",
        "editor:\n",
        "  render-on-save: true\n",
        "execute:\n",
        "  freeze: true\n",
        "---"
      ],
      "id": "9100d92e"
    },
    {
      "cell_type": "markdown",
      "metadata": {},
      "source": [
        "# Continued Analysis\n"
      ],
      "id": "f0cc7c9a"
    },
    {
      "cell_type": "code",
      "metadata": {},
      "source": [
        "import matplotlib.pyplot as plt\n",
        "import geopandas as gpd\n",
        "\n",
        "from typing import Optional\n",
        "from enrich.style import STYLES\n",
        "from rich.theme import Theme\n",
        "from rich.console import Console\n",
        "\n",
        "from ClimRR import (\n",
        "    set_plot_style,\n",
        "    get_logger,\n",
        "    DEFAULT_CRS,\n",
        ")\n",
        "from ClimRR.data import (\n",
        "    load_shapefile,\n",
        "    load_csvs,\n",
        "    load_counties,\n",
        "    load_chicago_data\n",
        ")\n",
        "\n",
        "set_plot_style()\n",
        "theme = Theme(STYLES)\n",
        "log = get_logger('ClimRR')\n",
        "console = Console(theme=theme, log_path=False, markup=True)"
      ],
      "id": "2ee7ed88",
      "execution_count": null,
      "outputs": []
    },
    {
      "cell_type": "code",
      "metadata": {},
      "source": [
        "shape = load_shapefile()\n",
        "data = load_csvs(shape)\n",
        "chidata = load_chicago_data(shape.crs)"
      ],
      "id": "fe45d247",
      "execution_count": null,
      "outputs": []
    },
    {
      "cell_type": "code",
      "metadata": {},
      "source": [
        "counties = load_counties(shape.crs)"
      ],
      "id": "09791205",
      "execution_count": null,
      "outputs": []
    },
    {
      "cell_type": "code",
      "metadata": {},
      "source": [
        "illinois = counties[counties[\"ste_name\"] == \"['Illinois']\"]\n",
        "wind_il = data[\"WindSpeed\"].overlay(illinois, how='intersection')"
      ],
      "id": "3ccf07d6",
      "execution_count": null,
      "outputs": []
    },
    {
      "cell_type": "code",
      "metadata": {},
      "source": [
        "fig, ax = plt.subplots(figsize=(10, 7))\n",
        "wind_il.plot(ax=ax, column='hist', legend=True)\n",
        "ax.set_axis_off()\n",
        "plt.show()"
      ],
      "id": "651f0d67",
      "execution_count": null,
      "outputs": []
    },
    {
      "cell_type": "code",
      "metadata": {},
      "source": [
        "console.log(\"\\n\".join(list(data.keys())))"
      ],
      "id": "0606c3fd",
      "execution_count": null,
      "outputs": []
    },
    {
      "cell_type": "code",
      "metadata": {},
      "source": [
        "def get_state(\n",
        "        state: str,\n",
        "        counties: Optional[gpd.GeoDataFrame] = None,\n",
        ") -> gpd.GeoDataFrame:\n",
        "    counties = load_counties(DEFAULT_CRS) if counties is None else counties\n",
        "    assert counties is not None and isinstance(counties, gpd.GeoDataFrame)\n",
        "    assert counties.crs == DEFAULT_CRS\n",
        "    return counties[counties[\"ste_name\"] == f\"['{state}']\"]\n",
        "\n",
        "\n",
        "def get_variable_for_state(\n",
        "        data: gpd.GeoDataFrame,\n",
        "        state: gpd.GeoDataFrame,\n",
        ") -> gpd.GeoDataFrame:\n",
        "    \"\"\"Returns `data.overlay(state, how='intersection')`\"\"\"\n",
        "    return data.overlay(state, how='intersection')"
      ],
      "id": "a8ac9458",
      "execution_count": null,
      "outputs": []
    },
    {
      "cell_type": "code",
      "metadata": {},
      "source": [
        "california = get_state('California', counties=counties)"
      ],
      "id": "4388ca15",
      "execution_count": null,
      "outputs": []
    },
    {
      "cell_type": "code",
      "metadata": {},
      "source": [
        "fig, ax = plt.subplots(figsize=(10, 7))\n",
        "ax = california.plot(ax=ax)\n",
        "ax.set_axis_off()"
      ],
      "id": "af1da707",
      "execution_count": null,
      "outputs": []
    },
    {
      "cell_type": "code",
      "metadata": {},
      "source": [
        "cali_temp_max = get_variable_for_state(\n",
        "    data[\"SeasonalTemperatureMaximum\"],\n",
        "    california\n",
        ")"
      ],
      "id": "e8aa9172",
      "execution_count": null,
      "outputs": []
    },
    {
      "cell_type": "code",
      "metadata": {},
      "source": [
        "fig, ax = plt.subplots(figsize=(16, 7), nrows=2, ncols=3, sharey='row', sharex='col')\n",
        "ax = ax.flatten()\n",
        "ax0 = cali_temp_max.plot(ax=ax[0], column='hist_winter', legend=True)\n",
        "ax0.set_title('Winter [Historical]')\n",
        "ax0.set_axis_off()\n",
        "ax1 = cali_temp_max.plot(ax=ax[1], column='rcp85_midc_winter', legend=True)\n",
        "ax1.set_axis_off()\n",
        "ax1.set_title('Winter [RCP85: Mid-Century]')\n",
        "ax2 = cali_temp_max.plot(ax=ax[2], column='rcp85_endc_winter', legend=True)\n",
        "ax2.set_axis_off()\n",
        "ax2.set_title('Winter [RCP85: End-Century]')\n",
        "\n",
        "ax3 = cali_temp_max.plot(ax=ax[3], column='hist_summer', legend=True)\n",
        "ax3.set_title('Summer [Historical]')\n",
        "ax3.set_axis_off()\n",
        "ax4 = cali_temp_max.plot(ax=ax[4], column='rcp85_mid_summer', legend=True)\n",
        "ax4.set_axis_off()\n",
        "ax4.set_title('Summer [RCP85: Mid-Century]')\n",
        "ax5 = cali_temp_max.plot(ax=ax[5], column='rcp85_end_summer', legend=True)\n",
        "ax5.set_axis_off()\n",
        "ax5.set_title('Summer [RCP85: End-Century]')\n",
        "plt.tight_layout()"
      ],
      "id": "1966d88f",
      "execution_count": null,
      "outputs": []
    }
  ],
  "metadata": {
    "kernelspec": {
      "name": "climrr",
      "language": "python",
      "display_name": "ClimRR [py3.11-CPU]"
    }
  },
  "nbformat": 4,
  "nbformat_minor": 5
}