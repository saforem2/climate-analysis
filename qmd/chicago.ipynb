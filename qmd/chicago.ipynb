{
  "cells": [
    {
      "cell_type": "raw",
      "metadata": {},
      "source": [
        "---\n",
        "date: today\n",
        "callout-appearance: simple\n",
        "editor:\n",
        "  render-on-save: true\n",
        "execute:\n",
        "  freeze: true\n",
        "---"
      ],
      "id": "2fcdc464"
    },
    {
      "cell_type": "markdown",
      "metadata": {},
      "source": [
        "# Chicago Analysis\n"
      ],
      "id": "877726fa"
    },
    {
      "cell_type": "code",
      "metadata": {},
      "source": [
        "#| code-fold: true\n",
        "#| code-summary: Imports\n",
        "%matplotlib inline\n",
        "import matplotlib_inline\n",
        "import matplotlib.pyplot as plt\n",
        "import geopandas as gpd\n",
        "import warnings\n",
        "\n",
        "import matplotlib.pyplot as plt\n",
        "\n",
        "# from enrich.console import Console, get_theme\n",
        "from ClimRR import get_logger, DATA_DIR, set_plot_style\n",
        "matplotlib_inline.backend_inline.set_matplotlib_formats('svg')\n",
        "set_plot_style()\n",
        "log = get_logger('ClimRR')\n",
        "from rich.console import Console as rConsole\n",
        "from enrich.style import STYLES\n",
        "from rich.theme import Theme\n",
        "\n",
        "theme = Theme(STYLES)\n",
        "log = get_logger('ClimRR')\n",
        "console = rConsole(theme=theme, log_path=False, markup=True)"
      ],
      "id": "8977b222",
      "execution_count": null,
      "outputs": []
    },
    {
      "cell_type": "code",
      "metadata": {},
      "source": [
        "from ClimRR import load_shapefile, load_csvs\n",
        "\n",
        "shape = load_shapefile()\n",
        "data = load_csvs(shape)"
      ],
      "id": "f60aaf20",
      "execution_count": null,
      "outputs": []
    },
    {
      "cell_type": "code",
      "metadata": {},
      "source": [
        "square = shape[shape[\"Crossmodel\"] == 'R146C497']\n",
        "square.explore()"
      ],
      "id": "a9da9019",
      "execution_count": null,
      "outputs": []
    },
    {
      "cell_type": "code",
      "metadata": {},
      "source": [
        "import geodatasets\n",
        "chipop = gpd.read_file(\n",
        "    geodatasets.get_path('geoda.chicago_commpop')\n",
        ").to_crs(square.crs)\n",
        "chihealth = gpd.read_file(\n",
        "    geodatasets.get_path('geoda.chicago_health')\n",
        ").to_crs(square.crs)\n",
        "chigroc = gpd.read_file(\n",
        "    geodatasets.get_path('geoda.groceries')\n",
        ").to_crs(square.crs)"
      ],
      "id": "c459341a",
      "execution_count": null,
      "outputs": []
    },
    {
      "cell_type": "code",
      "metadata": {},
      "source": [
        "fig, ax = plt.subplots(figsize=(10, 7))\n",
        "ax = chipop.to_crs(square.crs).plot(column=\"POP2010\", legend=True, ax=ax)\n",
        "ax.set_axis_off()\n",
        "_ = ax.set_title(f\"Chicago population by Neighborhood [2010]\")"
      ],
      "id": "6010e285",
      "execution_count": null,
      "outputs": []
    },
    {
      "cell_type": "code",
      "metadata": {},
      "source": [
        "chipop['boundary'] = chipop.boundary"
      ],
      "id": "ee2180f4",
      "execution_count": null,
      "outputs": []
    },
    {
      "cell_type": "code",
      "metadata": {},
      "source": [
        "fig, ax = plt.subplots(figsize=(10, 7))\n",
        "ax = chipop.boundary.plot(linewidth=0.8, color='#838383', ax=ax)\n",
        "ax.set_axis_off()\n",
        "_ = ax.set_title('Chicago Neighborhoods')"
      ],
      "id": "c11273f2",
      "execution_count": null,
      "outputs": []
    },
    {
      "cell_type": "code",
      "metadata": {},
      "source": [
        "wtown = chipop[chipop[\"community\"] == 'WEST TOWN']\n",
        "humboldt = chipop[chipop[\"community\"] == 'HUMBOLDT PARK']"
      ],
      "id": "d7cdeffc",
      "execution_count": null,
      "outputs": []
    },
    {
      "cell_type": "code",
      "metadata": {},
      "source": [
        "humboldt.explore()"
      ],
      "id": "0b2ca15f",
      "execution_count": null,
      "outputs": []
    },
    {
      "cell_type": "code",
      "metadata": {},
      "source": [
        "fig, ax = plt.subplots(figsize=(10, 7))\n",
        "ax = humboldt.overlay(shape, how='intersection').plot(ax=ax, legend=True)\n",
        "ax = (\n",
        "    hp := chipop[chipop['community'] == 'HUMBOLDT PARK'].overlay(\n",
        "        shape,\n",
        "        how='intersection'\n",
        "    )\n",
        ").plot(ax=ax, legend=True)\n",
        "ax = (\n",
        "    lp := chipop[chipop['community'] == 'LINCOLN PARK'].overlay(\n",
        "        shape,\n",
        "        how='intersection'\n",
        "    )\n",
        ").plot(ax=ax, legend=True)\n",
        "ax = chipop.boundary.plot(ax=ax, color='#666666', linewidth=0.8)\n",
        "ax = lp.boundary.plot(color='red', ax=ax)\n",
        "ax = hp.boundary.plot(color='red', ax=ax)\n",
        "ax.set_axis_off()\n",
        "_ = ax.set_title('Intersection of Humboldt Park & ClimRR data')"
      ],
      "id": "8e5d5a8e",
      "execution_count": null,
      "outputs": []
    },
    {
      "cell_type": "code",
      "metadata": {},
      "source": [
        "fig, ax = plt.subplots(figsize=(10, 7))\n",
        "chiwind = data['WindSpeed'].overlay(\n",
        "    chipop,\n",
        "    how='intersection'\n",
        ").overlay(chipop, how='union')\n",
        "ax = chiwind.boundary.plot(ax=ax, color='#666666', linewidth=0.8)\n",
        "ax.set_axis_off()"
      ],
      "id": "5f538ced",
      "execution_count": null,
      "outputs": []
    },
    {
      "cell_type": "code",
      "metadata": {},
      "source": [
        "_, ax = plt.subplots(figsize=(10, 7))\n",
        "ax = chipop.boundary.plot(color='#666666', linewidth=0.8, ax=ax, alpha=0.2)\n",
        "ax = chiwind.plot(column='hist', ax=ax, legend=True)\n",
        "ax.set_axis_off()\n",
        "ax.set_title('Historical Wind Data across Chicago Neighborhoods')\n",
        "plt.tight_layout()"
      ],
      "id": "377f2996",
      "execution_count": null,
      "outputs": []
    },
    {
      "cell_type": "code",
      "metadata": {},
      "source": [
        "chiwind.explore(column='hist')"
      ],
      "id": "cfb7f009",
      "execution_count": null,
      "outputs": []
    },
    {
      "cell_type": "code",
      "metadata": {},
      "source": [
        "_, ax = plt.subplots()\n",
        "ax = chiwind.plot(column='hist', scheme='quantiles', k=8, ax=ax)\n",
        "_ = ax.set_title('WindSpeed, historical')\n",
        "ax.set_axis_off()\n",
        "plt.tight_layout()"
      ],
      "id": "c035a93f",
      "execution_count": null,
      "outputs": []
    },
    {
      "cell_type": "code",
      "metadata": {},
      "source": [
        "fig, ax = plt.subplots()\n",
        "ax = chiwind.plot(column='rcp45_midc', scheme='quantiles', k=3, ax=ax)\n",
        "ax.set_axis_off()\n",
        "_ = ax.set_title('WindSpeed, Mid-Century [RCP45]')\n",
        "plt.tight_layout()"
      ],
      "id": "7b3fad22",
      "execution_count": null,
      "outputs": []
    },
    {
      "cell_type": "code",
      "metadata": {},
      "source": [
        "fig, ax = plt.subplots()\n",
        "ax = chiwind.plot(column='rcp45_endc', scheme='quantiles', k=3, ax=ax)\n",
        "_ = ax.set_title('WindSpeed, End-Century [RCP45]')\n",
        "plt.tight_layout()"
      ],
      "id": "dc0026ad",
      "execution_count": null,
      "outputs": []
    },
    {
      "cell_type": "code",
      "metadata": {},
      "source": [
        "fig, ax = plt.subplots(ncols=3, figsize=(16, 7))\n",
        "ax0 = chiwind.plot('hist', ax=ax[0])\n",
        "ax1 = chiwind.plot('rcp45_midc', ax=ax[1])\n",
        "ax2 = chiwind.plot('rcp45_midc', ax=ax[2])\n",
        "ax0.set_axis_off()\n",
        "ax1.set_axis_off()\n",
        "ax2.set_axis_off()"
      ],
      "id": "774fc604",
      "execution_count": null,
      "outputs": []
    },
    {
      "cell_type": "code",
      "metadata": {},
      "source": [
        "data['WindSpeed'].shape"
      ],
      "id": "0f2b2e18",
      "execution_count": null,
      "outputs": []
    },
    {
      "cell_type": "code",
      "metadata": {},
      "source": [
        "selection = shape[0:5]\n",
        "\n",
        "for index, row in selection.iterrows():\n",
        "    # get the area of the polygon\n",
        "    poly_area = row['geometry'].area\n",
        "    console.print(f\"Polygon area at {index} is {poly_area:.3f}\")"
      ],
      "id": "c619f661",
      "execution_count": null,
      "outputs": []
    }
  ],
  "metadata": {
    "kernelspec": {
      "name": "climrr",
      "language": "python",
      "display_name": "ClimRR [py3.11-CPU]"
    }
  },
  "nbformat": 4,
  "nbformat_minor": 5
}