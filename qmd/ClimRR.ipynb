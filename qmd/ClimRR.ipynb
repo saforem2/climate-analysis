{
  "cells": [
    {
      "cell_type": "raw",
      "metadata": {},
      "source": [
        "---\n",
        "date: today\n",
        "author: Sam Foreman\n",
        "institution: Argonne National Laboratory\n",
        "callout-appearance: simple\n",
        "editor:\n",
        "  render-on-save: true\n",
        "execute:\n",
        "  freeze: true\n",
        "---"
      ],
      "id": "b3811a4e"
    },
    {
      "cell_type": "markdown",
      "metadata": {},
      "source": [
        "# Climate Analysis with ClimRR\n",
        "\n",
        "## Getting Started\n",
        "\n",
        "### Reading and Writing Files\n",
        "\n",
        "We use [`GeoPandas`](https://geopandas.org/en/stable/index.html), an open\n",
        "source project to make working with geospatial data in python easier. GeoPandas\n",
        "extends the datatypes used by [pandas](http://pandas.pydata.org/) to allow\n",
        "spatial operations on geometric types.\n",
        "\n",
        "Geometric operations are performed by [`shapely`](https://shapely.readthedocs.io/).\n",
        "\n",
        "GeoPandas further depends on [`fiona`](https://fiona.readthedocs.io/) and\n",
        "[`matplotlib`](http://matplotlib.org/) for plotting.\n",
        "\n",
        "GeoPandas can read almost any vector-based spatial data format including ESRI shapefile, GeoJSON files and more using the command\n",
        "\n",
        "```python\n",
        "import geopandas as gpd\n",
        "gpd.read_file()\n",
        "```\n",
        "\n",
        "which returns a GeoDataFrame object.`\n",
        "\n",
        "A `GeoDataFrame` is a tabular data structure that contains a `GeoSeries`.\n",
        "\n",
        "The most important property of a `GeoDataFrame` is that it always has one\n",
        "`GeoSeries` column that holds a special status.\n",
        "\n",
        "This `GeoSeries` is referred to as the `GeoDataFrame`'s \"geometry\". When a\n",
        "spatial method is applied to a `GeoDataFrame` (or a spatial attribute like area\n",
        "is called), this commands will always act on the \"geometry\" column[^geometry].\n",
        "\n",
        "[^geometry]: The “geometry” column – no matter its name – can be accessed\n",
        "through the geometry attribute (`gdf.geometry`), and the name of the geometry\n",
        "column can be found by typing `gdf.geometry.name`.\n",
        "\n",
        "### Imports / setup\n"
      ],
      "id": "b86bea30"
    },
    {
      "cell_type": "code",
      "metadata": {},
      "source": [
        "#| code-fold: true\n",
        "#| code-summary: Imports\n",
        "%matplotlib inline\n",
        "import matplotlib_inline\n",
        "import matplotlib.pyplot as plt\n",
        "import geopandas as gpd\n",
        "import warnings\n",
        "\n",
        "import matplotlib.pyplot as plt\n",
        "\n",
        "from enrich.style import STYLES\n",
        "from rich.theme import Theme\n",
        "from rich.console import Console as rConsole\n",
        "from ClimRR import get_logger, DATA_DIR, set_plot_style\n",
        "\n",
        "matplotlib_inline.backend_inline.set_matplotlib_formats('svg')\n",
        "\n",
        "set_plot_style()"
      ],
      "id": "067bfe97",
      "execution_count": null,
      "outputs": []
    },
    {
      "cell_type": "code",
      "metadata": {},
      "source": [
        "theme = Theme(STYLES)\n",
        "log = get_logger('ClimRR')\n",
        "console = rConsole(theme=Theme(STYLES), log_path=False, markup=True)"
      ],
      "id": "eab0650b",
      "execution_count": null,
      "outputs": []
    },
    {
      "cell_type": "markdown",
      "metadata": {},
      "source": [
        "## Load Shapefile and inspect\n",
        "\n",
        "A shapefile is provided in the [ClimRR Data Download\n",
        "(ANL)](https://anl.box.com/s/hmkkgkrkzxxocfe9kpgrzk2gfc4gizp8) as\n",
        "\n",
        "::: {.callout-note title=\"Data Organization\" collapse=\"true\"}\n",
        "\n",
        "```bash\n",
        "📂 ClimRR Data Download/\n",
        "┣━━ 📂 GridCells2Shapefile/\n",
        "┃   ┣━━ 📄 GridCells2.cpg\n",
        "┃   ┣━━ 📄 GridCells2.dbf\n",
        "┃   ┣━━ 📄 GridCells2.prj\n",
        "┃   ┣━━ 📄 GridCells2.sbn\n",
        "┃   ┣━━ 📄 GridCells2.sbx\n",
        "┃   ┣━━ 📄 GridCells2.shp\n",
        "┃   ┣━━ 📄 GridCells2.shp.xml\n",
        "┃   ┗━━ 📄 GridCells2.shx\n",
        "┣━━ 📂 GridCellsShapefile/\n",
        "┃   ┣━━ 📄 GridCells.cpg\n",
        "┃   ┣━━ 📄 GridCells.dbf\n",
        "┃   ┣━━ 📄 GridCells.prj\n",
        "┃   ┣━━ 📄 GridCells.sbn\n",
        "┃   ┣━━ 📄 GridCells.sbx\n",
        "┃   ┣━━ 📄 GridCells.shp\n",
        "┃   ┣━━ 📄 GridCells.shp.xml\n",
        "┃   ┗━━ 📄 GridCells.shx\n",
        "┣━━ 📄 AnnualTemperatureMaximum.csv\n",
        "┣━━ 📄 AnnualTemperatureMinimum.csv\n",
        "┣━━ 📄 ClimRR Metadata and Data Dictionary.pdf\n",
        "┣━━ 📄 ConsecutiveDayswithNoPrecipitation.csv\n",
        "┣━━ 📄 FireWeatherIndex_Wildfire.csv\n",
        "┣━━ 📄 GridCells2Shapefile.zip\n",
        "┣━━ 📄 GridCellsShapefile.zip\n",
        "┣━━ 📄 HeatingDegreeDays.csv\n",
        "┣━━ 📄 Precipitation_inches_AnnualTotal.csv\n",
        "┣━━ 📄 README.txt\n",
        "┣━━ 📄 SeasonalTemperatureMaximum.csv\n",
        "┣━━ 📄 SeasonalTemperatureMinimum.csv\n",
        "┗━━ 📄 WindSpeed.csv\n",
        "```\n",
        "\n",
        "\n",
        "\n",
        ":::\n"
      ],
      "id": "f8754d15"
    },
    {
      "cell_type": "code",
      "metadata": {},
      "source": [
        "import cartopy.io.shapereader as shpreader\n",
        "import shapely.geometry as sgeom\n",
        "shpfile = DATA_DIR.joinpath(\n",
        "    \"GridCells2Shapefile/GridCellsShapefile/GridCells.shp\"\n",
        ")\n",
        "shape = gpd.read_file(shpfile)\n",
        "shape.head()"
      ],
      "id": "0af85501",
      "execution_count": null,
      "outputs": []
    },
    {
      "cell_type": "markdown",
      "metadata": {},
      "source": [
        "## Tiling the US: Cells + Grids\n",
        "\n",
        "Our shapefile contains a grid of _cells_ (12km x 12km) which tile the\n",
        "continental US.\n",
        "\n",
        "We can inspect a single cell:\n"
      ],
      "id": "01254149"
    },
    {
      "cell_type": "code",
      "metadata": {},
      "source": [
        "square = shape[shape[\"Crossmodel\"] == 'R146C497']\n",
        "square.explore()"
      ],
      "id": "b2f3b6ba",
      "execution_count": null,
      "outputs": []
    },
    {
      "cell_type": "markdown",
      "metadata": {},
      "source": [
        "## Load data from `*.csv` files\n",
        "\n",
        "Each entry (row) in the `.csv` has a `Crossmodel` column (e.g. `R146C497`)\n",
        "which corresponds to a row in our `shapefile` that uniquely determines its\n",
        "location on the Earth.\n",
        "\n",
        "We can associate with each of the `.csv`s the `geometry` used in our\n",
        "`shapefile` to position our data on the globe.\n"
      ],
      "id": "5526f49d"
    },
    {
      "cell_type": "code",
      "metadata": {},
      "source": [
        "import pandas as pd\n",
        "csvs = [i for i in DATA_DIR.rglob('*.csv')]\n",
        "data = {}\n",
        "for f in csvs:\n",
        "    key = f.stem\n",
        "    tmp = pd.read_csv(f.as_posix())\n",
        "    gdf = shape.merge(tmp, on='Crossmodel')\n",
        "    gdf['boundary'] = gdf.boundary\n",
        "    gdf['centroid'] = gdf.centroid\n",
        "    data[key] = gdf\n",
        "    console.print(f\"data['{key}'].shape={data[key].shape}\")"
      ],
      "id": "a93071e7",
      "execution_count": null,
      "outputs": []
    },
    {
      "cell_type": "markdown",
      "metadata": {},
      "source": [
        "## Look at the WindSpeed data\n",
        "\n",
        "Lets inspect one of the entries in our `data[(...)]` dictionary, `WindSpeed`, for example:\n"
      ],
      "id": "839ab8ce"
    },
    {
      "cell_type": "code",
      "metadata": {},
      "source": [
        "data[\"WindSpeed\"].head()"
      ],
      "id": "f658305e",
      "execution_count": null,
      "outputs": []
    },
    {
      "cell_type": "markdown",
      "metadata": {},
      "source": [
        "We see that each entry has a `geometry` column, as well as columns for\n",
        "`{hist,rcp45_midc, rcp45_endc, rcp85_midc, rcp85_endc, ...}` which contains the\n",
        "numerical value of the `WindSpeed` in each cell under different scenarios at\n",
        "different points in time.\n",
        "\n",
        "We can see this explicitly by plotting this value for a single cell:\n"
      ],
      "id": "9d63b7f1"
    },
    {
      "cell_type": "code",
      "metadata": {},
      "source": [
        "cell = data[\"WindSpeed\"][data[\"WindSpeed\"][\"Crossmodel\"] == 'R146C497']\n",
        "ax = cell.plot(column=\"hist\", legend=True)\n",
        "ax.set_axis_off()"
      ],
      "id": "211f9181",
      "execution_count": null,
      "outputs": []
    },
    {
      "cell_type": "code",
      "metadata": {},
      "source": [
        "ax = square.boundary.plot()\n",
        "ax.set_axis_off()\n",
        "_ = ax.set_title('Grid from shapefile: 12 x 12 km')"
      ],
      "id": "1fe13e39",
      "execution_count": null,
      "outputs": []
    },
    {
      "cell_type": "code",
      "metadata": {},
      "source": [
        "fig, ax = plt.subplots(\n",
        "    figsize=(10, 10),\n",
        "    nrows=2,\n",
        "    ncols=2,\n",
        "    sharex='col',\n",
        "    sharey='row'\n",
        ")\n",
        "ax = ax.flatten()\n",
        "\n",
        "ax[0] = shape.loc[list(range(500)), :].plot(ax=ax[0])\n",
        "ax[0].set_axis_off()\n",
        "ax[0].set_title('First 500 polygons')\n",
        "\n",
        "ax[1] = shape.loc[list(range(1000)), :].plot(ax=ax[1])\n",
        "ax[1].set_axis_off()\n",
        "ax[1].set_title('First 1k polygons')\n",
        "\n",
        "ax[2] = shape.loc[list(range(5000)), :].plot(ax=ax[2])\n",
        "ax[2].set_axis_off()\n",
        "ax[2].set_title('First 10k points')\n",
        "\n",
        "ax[3] = shape.loc[list(range(20000)), :].plot(ax=ax[3])\n",
        "ax[3].set_axis_off()\n",
        "_ = ax[3].set_title('First 20k points')"
      ],
      "id": "b51c9200",
      "execution_count": null,
      "outputs": []
    }
  ],
  "metadata": {
    "kernelspec": {
      "name": "climrr",
      "language": "python",
      "display_name": "ClimRR [py3.11-CPU]"
    }
  },
  "nbformat": 4,
  "nbformat_minor": 5
}