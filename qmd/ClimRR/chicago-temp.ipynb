{
  "cells": [
    {
      "cell_type": "raw",
      "metadata": {},
      "source": [
        "---\n",
        "callout-appearance: simple\n",
        "editor:\n",
        "  render-on-save: true\n",
        "execute:\n",
        "  freeze: true\n",
        "---"
      ],
      "id": "ac038078"
    },
    {
      "cell_type": "markdown",
      "metadata": {},
      "source": [
        "# Chicago Temperature Analysis\n"
      ],
      "id": "83ce0b32"
    },
    {
      "cell_type": "code",
      "metadata": {},
      "source": [
        "#| code-fold: true\n",
        "#| code-summary: Imports\n",
        "%matplotlib inline\n",
        "import matplotlib_inline\n",
        "import matplotlib.pyplot as plt\n",
        "import geopandas as gpd\n",
        "import warnings\n",
        "\n",
        "import matplotlib.pyplot as plt\n",
        "\n",
        "# from enrich.console import Console, get_theme\n",
        "matplotlib_inline.backend_inline.set_matplotlib_formats('svg')\n",
        "from ClimRR.data import DATA_DIR\n",
        "from ClimRR import get_logger, set_plot_style\n",
        "set_plot_style()\n",
        "log = get_logger('ClimRR')\n",
        "from rich.console import Console as rConsole\n",
        "from enrich.style import STYLES\n",
        "from rich.theme import Theme\n",
        "\n",
        "theme = Theme(STYLES)\n",
        "log = get_logger('ClimRR')\n",
        "console = rConsole(theme=theme, log_path=False, markup=True)"
      ],
      "id": "d83ee97b",
      "execution_count": null,
      "outputs": []
    },
    {
      "cell_type": "code",
      "metadata": {},
      "source": [
        "from ClimRR.data import load_shapefile, load_csvs\n",
        "\n",
        "shape = load_shapefile()\n",
        "data = load_csvs(shape)"
      ],
      "id": "a17eb689",
      "execution_count": null,
      "outputs": []
    },
    {
      "cell_type": "code",
      "metadata": {},
      "source": [
        "console.print(\"Data: \\n\" + f\"\\n\".join(list(data.keys())))"
      ],
      "id": "dd7d028a",
      "execution_count": null,
      "outputs": []
    },
    {
      "cell_type": "code",
      "metadata": {},
      "source": [
        "# counties = gpd.read_file(\n",
        "#     'https://public.opendatasoft.com/api/explore/v2.1/catalog/datasets/georef-united-states-of-america-county/exports/shp?lang=en&timezone=America%2FChicago'\n",
        "# )\n",
        "from ClimRR.data import load_counties\n",
        "counties = load_counties(crs=shape.crs)"
      ],
      "id": "577f7893",
      "execution_count": null,
      "outputs": []
    },
    {
      "cell_type": "code",
      "metadata": {},
      "source": [
        "counties.head(n=5)"
      ],
      "id": "38fa0e35",
      "execution_count": null,
      "outputs": []
    },
    {
      "cell_type": "code",
      "metadata": {},
      "source": [
        "illinois = counties[counties['ste_name'] == \"['Illinois']\"]\n",
        "console.log(f\"illinois.shape={illinois.shape}\")\n",
        "illinois.head(n=5)"
      ],
      "id": "4439f871",
      "execution_count": null,
      "outputs": []
    },
    {
      "cell_type": "code",
      "metadata": {},
      "source": [
        "fig, ax = plt.subplots(figsize=(10, 7))\n",
        "ax = illinois.boundary.plot(ax=ax, color='#666666', linewidth=0.8)\n",
        "ax.set_axis_off()"
      ],
      "id": "76cc4697",
      "execution_count": null,
      "outputs": []
    },
    {
      "cell_type": "code",
      "metadata": {},
      "source": [
        "illinois_hdd = data[\"HeatingDegreeDays\"].clip(illinois)\n",
        "illinois_hdd.head(n=2)"
      ],
      "id": "dc2e55fb",
      "execution_count": null,
      "outputs": []
    },
    {
      "cell_type": "code",
      "metadata": {},
      "source": [
        "_, ax = plt.subplots(figsize=(10, 7))\n",
        "ax = illinois_hdd.boundary.plot(color='#666666', linewidth=0.8, ax=ax, alpha=0.2)\n",
        "ax = illinois_hdd.plot(column='hist', ax=ax, legend=True)\n",
        "ax.set_axis_off()\n",
        "ax.set_title('Historical Heating Degree Days across Illinois')\n",
        "plt.tight_layout()"
      ],
      "id": "01a7d536",
      "execution_count": null,
      "outputs": []
    },
    {
      "cell_type": "code",
      "metadata": {},
      "source": [
        "fig, ax = plt.subplots(ncols=3, figsize=(16, 7), sharey='row')\n",
        "ax0 = illinois_hdd.plot('hist', ax=ax[0], legend=True)\n",
        "ax1 = illinois_hdd.plot('rcp85_midc', ax=ax[1], legend=True)\n",
        "ax2 = illinois_hdd.plot('mid85_hist', ax=ax[2], legend=True)\n",
        "ax0.set_title(\"HDD: Historical\")\n",
        "ax1.set_title(\"HDD: Mid-Century RCP8.5\")\n",
        "ax2.set_title(\"HDD: (Mid-Century - Historical) RCP8.5\")\n",
        "ax0.set_axis_off()\n",
        "ax1.set_axis_off()\n",
        "ax2.set_axis_off()\n",
        "plt.tight_layout()"
      ],
      "id": "7493bcaf",
      "execution_count": null,
      "outputs": []
    },
    {
      "cell_type": "code",
      "metadata": {},
      "source": [
        "_, ax = plt.subplots(figsize=(10, 7))\n",
        "ax = illinois_hdd.boundary.plot(color='#666666', linewidth=0.8, ax=ax, alpha=0.2)\n",
        "ax = illinois_hdd.plot(column='rcp85_midc', ax=ax, legend=True)\n",
        "ax.set_axis_off()\n",
        "ax.set_title('RCP8.5 Mid-Century Heating Degree Days across Illinois')\n",
        "plt.tight_layout()"
      ],
      "id": "b3bdd8fd",
      "execution_count": null,
      "outputs": []
    },
    {
      "cell_type": "code",
      "metadata": {},
      "source": [
        "_, ax = plt.subplots(figsize=(10, 7))\n",
        "ax = illinois_hdd.boundary.plot(color='#666666', linewidth=0.8, ax=ax, alpha=0.2)\n",
        "ax = illinois_hdd.plot(column='mid85_hist', ax=ax, legend=True)\n",
        "ax.set_axis_off()\n",
        "ax.set_title('RCP8.5 End-Century Heating Degree Days across Illinois')\n",
        "plt.tight_layout()"
      ],
      "id": "33bb27b8",
      "execution_count": null,
      "outputs": []
    },
    {
      "cell_type": "code",
      "metadata": {},
      "source": [
        "fig, ax = plt.subplots(figsize=(10, 7))\n",
        "wind_il = data['WindSpeed'].clip(\n",
        "    illinois,\n",
        "    # how='intersection'\n",
        ")\n",
        "# ax = wind_il.boundary.plot(ax=ax, color='#666666', linewidth=0.8)\n",
        "ax = wind_il.plot(column='hist', ax=ax, linewidth=0.8, legend=True)\n",
        "ax.set_axis_off()"
      ],
      "id": "9b7c0123",
      "execution_count": null,
      "outputs": []
    },
    {
      "cell_type": "code",
      "metadata": {},
      "source": [
        "_, ax = plt.subplots(figsize=(10, 7))\n",
        "ax = wind_il.boundary.plot(color='#666666', linewidth=0.8, ax=ax, alpha=0.2)\n",
        "ax = wind_il.plot(column='hist', ax=ax, legend=True)\n",
        "ax.set_axis_off()\n",
        "ax.set_title('Historical Wind Data across Illinois')\n",
        "plt.tight_layout()"
      ],
      "id": "ea623b3d",
      "execution_count": null,
      "outputs": []
    },
    {
      "cell_type": "code",
      "metadata": {},
      "source": [
        "# wind_il.explore(column='hist')\n",
        "wind_il.head(n=2)"
      ],
      "id": "917f5339",
      "execution_count": null,
      "outputs": []
    },
    {
      "cell_type": "code",
      "metadata": {},
      "source": [
        "_, ax = plt.subplots()\n",
        "ax = wind_il.plot(column='hist', ax=ax, legend=True)\n",
        "_ = ax.set_title('WindSpeed, historical')\n",
        "ax.set_axis_off()"
      ],
      "id": "a13f2bb5",
      "execution_count": null,
      "outputs": []
    },
    {
      "cell_type": "code",
      "metadata": {},
      "source": [
        "fig, ax = plt.subplots()\n",
        "ax = wind_il.plot(column='rcp45_midc', ax=ax, legend=True)\n",
        "ax.set_axis_off()\n",
        "_ = ax.set_title('WindSpeed, Mid-Century [RCP45]')"
      ],
      "id": "295cf863",
      "execution_count": null,
      "outputs": []
    },
    {
      "cell_type": "code",
      "metadata": {},
      "source": [
        "fig, ax = plt.subplots()\n",
        "_ = ax.set_title('WindSpeed, End-Century [RCP45]')\n",
        "# _ = ax.legend(loc='best')\n",
        "ax = wind_il.plot(column='rcp45_endc', ax=ax, legend=True)\n",
        "ax.set_axis_off()"
      ],
      "id": "174bc0c2",
      "execution_count": null,
      "outputs": []
    },
    {
      "cell_type": "code",
      "metadata": {},
      "source": [
        "fig, ax = plt.subplots(ncols=3, figsize=(16, 7))\n",
        "ax0 = wind_il.plot('hist', ax=ax[0], legend=True)\n",
        "ax1 = wind_il.plot('rcp45_midc', ax=ax[1], legend=True)\n",
        "ax2 = wind_il.plot('rcp45_endc', ax=ax[2], legend=True)\n",
        "ax0.set_title(\"Wind Speed: Historical\")\n",
        "ax1.set_title(\"Wind Speed: Mid-Century RCP4.5\")\n",
        "ax2.set_title(\"Wind Speed: End-Century RCP4.5\")\n",
        "ax0.set_axis_off()\n",
        "ax1.set_axis_off()\n",
        "ax2.set_axis_off()\n",
        "plt.tight_layout()"
      ],
      "id": "d85319d4",
      "execution_count": null,
      "outputs": []
    },
    {
      "cell_type": "code",
      "metadata": {},
      "source": [
        "fig, ax = plt.subplots(ncols=3, figsize=(16, 7))\n",
        "ax0 = wind_il.plot('hist', ax=ax[0], legend=True)\n",
        "ax1 = wind_il.plot('rcp85_midc', ax=ax[1], legend=True)\n",
        "ax2 = wind_il.plot('rcp85_endc', ax=ax[2], legend=True)\n",
        "ax0.set_title(\"Wind Speed: Historical\")\n",
        "ax1.set_title(\"Wind Speed: Mid-Century RCP8.5\")\n",
        "ax2.set_title(\"Wind Speed: End-Century RCP8.5\")\n",
        "ax0.set_axis_off()\n",
        "ax1.set_axis_off()\n",
        "ax2.set_axis_off()\n",
        "plt.tight_layout()"
      ],
      "id": "f262bef9",
      "execution_count": null,
      "outputs": []
    },
    {
      "cell_type": "code",
      "metadata": {},
      "source": [
        "data['WindSpeed'].shape"
      ],
      "id": "9808a462",
      "execution_count": null,
      "outputs": []
    },
    {
      "cell_type": "code",
      "metadata": {},
      "source": [
        "selection = shape[0:5]\n",
        "\n",
        "for index, row in selection.iterrows():\n",
        "    # get the area of the polygon\n",
        "    poly_area = row['geometry'].area\n",
        "    console.print(f\"Polygon area at {index} is {poly_area:.3f}\")"
      ],
      "id": "737beff7",
      "execution_count": null,
      "outputs": []
    }
  ],
  "metadata": {
    "kernelspec": {
      "name": "climrr",
      "language": "python",
      "display_name": "ClimRR [py3.11-CPU]"
    }
  },
  "nbformat": 4,
  "nbformat_minor": 5
}