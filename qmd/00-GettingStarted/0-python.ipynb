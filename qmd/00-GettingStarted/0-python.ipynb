{
  "cells": [
    {
      "cell_type": "raw",
      "metadata": {},
      "source": [
        "---\n",
        "callout-appearance: simple\n",
        "editor:\n",
        "  render-on-save: true\n",
        "execute:\n",
        "  freeze: true\n",
        "---"
      ],
      "id": "fa6adb35"
    },
    {
      "cell_type": "markdown",
      "metadata": {},
      "source": [
        "# Overview of Python\n",
        "\n",
        "::: {.callout-caution title=\"Reference\" collapse=\"true\" style=\"width:100%;\"}\n",
        "\n",
        "**Material below modified from[^modified]**: [Python\n",
        "Fundamentals](https://earth-env-data-science.github.io/lectures/core_python/python_fundamentals.html)\n",
        "\n",
        ":::\n",
        "\n",
        "[^modified]: Which _itself_ is modified from the [official python\n",
        "tutorial](https://docs.python.org/3/tutorial/)\n",
        "\n",
        "## Invoking Python\n",
        "\n",
        "There are three main ways to use Python:\n",
        "\n",
        "1. Running / executing a Python file, e.g. `python filename.py`\n",
        "    - this will launch python, execute (line by line) the contents of `filename.py`, and return\n",
        "2. Interactively, either through:\n",
        "    1. a **console** (e.g. the Python interpreter `python` or an [IPython](https://ipython.org/) shell `ipython`)\n",
        "    2. a **notebook** (e.g. Jupyter notebook)*\n",
        "\n",
        "*we will (mostly) focus on using Jupyter notebooks for this project."
      ],
      "id": "5bc78c99"
    }
  ],
  "metadata": {
    "kernelspec": {
      "name": "climrr",
      "language": "python",
      "display_name": "ClimRR [py3.11-CPU]"
    }
  },
  "nbformat": 4,
  "nbformat_minor": 5
}