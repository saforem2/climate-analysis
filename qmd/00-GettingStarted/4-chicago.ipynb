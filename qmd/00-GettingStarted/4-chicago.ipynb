{
  "cells": [
    {
      "cell_type": "raw",
      "metadata": {},
      "source": [
        "---\n",
        "callout-appearance: simple\n",
        "editor:\n",
        "  render-on-save: true\n",
        "execute:\n",
        "  freeze: true\n",
        "---"
      ],
      "id": "9a957845"
    },
    {
      "cell_type": "markdown",
      "metadata": {},
      "source": [
        "# Chicago Analysis\n"
      ],
      "id": "2fb26e3a"
    },
    {
      "cell_type": "code",
      "metadata": {},
      "source": [
        "#| code-fold: true\n",
        "#| code-summary: Imports\n",
        "%matplotlib inline\n",
        "import matplotlib_inline\n",
        "import matplotlib.pyplot as plt\n",
        "import geopandas as gpd\n",
        "import warnings\n",
        "\n",
        "import matplotlib.pyplot as plt\n",
        "\n",
        "# from enrich.console import Console, get_theme\n",
        "matplotlib_inline.backend_inline.set_matplotlib_formats('svg')\n",
        "from ClimRR import get_logger, set_plot_style\n",
        "from ClimRR.data import DATA_DIR\n",
        "set_plot_style()\n",
        "log = get_logger('ClimRR')\n",
        "from rich.console import Console as rConsole\n",
        "from enrich.style import STYLES\n",
        "from rich.theme import Theme\n",
        "\n",
        "theme = Theme(STYLES)\n",
        "log = get_logger('ClimRR')\n",
        "console = rConsole(theme=theme, log_path=False, markup=True)"
      ],
      "id": "994374b9",
      "execution_count": null,
      "outputs": []
    },
    {
      "cell_type": "code",
      "metadata": {},
      "source": [
        "from ClimRR.data import load_shapefile, load_csvs\n",
        "\n",
        "shape = load_shapefile()\n",
        "data = load_csvs(shape)"
      ],
      "id": "8058b36a",
      "execution_count": null,
      "outputs": []
    },
    {
      "cell_type": "code",
      "metadata": {},
      "source": [
        "square = shape[shape[\"Crossmodel\"] == 'R146C497']\n",
        "fig, ax = plt.subplots(figsize=(4, 3))\n",
        "ax = square.boundary.plot(ax=ax)\n",
        "ax.set_axis_off()\n",
        "plt.tight_layout()"
      ],
      "id": "70123b4a",
      "execution_count": null,
      "outputs": []
    },
    {
      "cell_type": "code",
      "metadata": {},
      "source": [
        "import geopandas as gpd\n",
        "import geodatasets\n",
        "chipop = gpd.read_file(\n",
        "    geodatasets.get_path('geoda.chicago_commpop')\n",
        ").to_crs(square.crs)\n",
        "chihealth = gpd.read_file(\n",
        "    geodatasets.get_path('geoda.chicago_health')\n",
        ").to_crs(square.crs)\n",
        "chigroc = gpd.read_file(\n",
        "    geodatasets.get_path('geoda.groceries')\n",
        ").to_crs(square.crs)"
      ],
      "id": "e14087af",
      "execution_count": null,
      "outputs": []
    },
    {
      "cell_type": "markdown",
      "metadata": {},
      "source": [
        "We can inspect this data, looking at the `chipop.boundary` for example\n"
      ],
      "id": "f91bf349"
    },
    {
      "cell_type": "code",
      "metadata": {},
      "source": [
        "chipop['boundary'] = chipop.boundary"
      ],
      "id": "66997395",
      "execution_count": null,
      "outputs": []
    },
    {
      "cell_type": "code",
      "metadata": {},
      "source": [
        "fig, ax = plt.subplots(figsize=(10, 7))\n",
        "ax = chipop.boundary.plot(linewidth=0.8, color='#838383', ax=ax)\n",
        "ax.set_axis_off()\n",
        "_ = ax.set_title('Chicago Neighborhoods')"
      ],
      "id": "82adc5fa",
      "execution_count": null,
      "outputs": []
    },
    {
      "cell_type": "markdown",
      "metadata": {},
      "source": [
        "Which we can use to plot the population (by neighborhood, in  this case):\n"
      ],
      "id": "ea405763"
    },
    {
      "cell_type": "code",
      "metadata": {},
      "source": [
        "fig, ax = plt.subplots(figsize=(10, 7))\n",
        "ax = chipop.to_crs(square.crs).plot(column=\"POP2010\", legend=True, ax=ax)\n",
        "ax.set_axis_off()\n",
        "_ = ax.set_title(f\"Chicago population by Neighborhood [2010]\")"
      ],
      "id": "26b320a7",
      "execution_count": null,
      "outputs": []
    },
    {
      "cell_type": "code",
      "metadata": {},
      "source": [
        "wtown = chipop[chipop[\"community\"] == 'WEST TOWN']\n",
        "humboldt = chipop[chipop[\"community\"] == 'HUMBOLDT PARK']"
      ],
      "id": "a5a18ef2",
      "execution_count": null,
      "outputs": []
    },
    {
      "cell_type": "code",
      "metadata": {},
      "source": [
        "humboldt.explore()"
      ],
      "id": "0be27d6c",
      "execution_count": null,
      "outputs": []
    },
    {
      "cell_type": "code",
      "metadata": {},
      "source": [
        "fig, ax = plt.subplots(figsize=(10, 7))\n",
        "ax = humboldt.overlay(shape, how='intersection').plot(ax=ax, legend=True)\n",
        "ax = (\n",
        "    hp := chipop[chipop['community'] == 'HUMBOLDT PARK'].overlay(\n",
        "        shape,\n",
        "        how='intersection'\n",
        "    )\n",
        ").plot(ax=ax, legend=True)\n",
        "ax = (\n",
        "    lp := chipop[chipop['community'] == 'LINCOLN PARK'].overlay(\n",
        "        shape,\n",
        "        how='intersection'\n",
        "    )\n",
        ").plot(ax=ax, legend=True)\n",
        "ax = chipop.boundary.plot(ax=ax, color='#666666', linewidth=0.8)\n",
        "ax = lp.boundary.plot(color='red', ax=ax)\n",
        "ax = hp.boundary.plot(color='red', ax=ax)\n",
        "ax.set_axis_off()\n",
        "_ = ax.set_title('Intersection of Humboldt Park & ClimRR data')"
      ],
      "id": "6c0b80ed",
      "execution_count": null,
      "outputs": []
    },
    {
      "cell_type": "code",
      "metadata": {},
      "source": [
        "fig, ax = plt.subplots(figsize=(10, 7))\n",
        "chiwind = data['WindSpeed'].overlay(\n",
        "    chipop,\n",
        "    how='intersection'\n",
        ").overlay(chipop, how='union')\n",
        "ax = chiwind.boundary.plot(ax=ax, color='#666666', linewidth=0.8)\n",
        "ax.set_axis_off()"
      ],
      "id": "904c69b4",
      "execution_count": null,
      "outputs": []
    },
    {
      "cell_type": "code",
      "metadata": {},
      "source": [
        "_, ax = plt.subplots(figsize=(10, 7))\n",
        "ax = chipop.boundary.plot(color='#666666', linewidth=0.8, ax=ax, alpha=0.2)\n",
        "ax = chiwind.plot(column='hist', ax=ax, legend=True)\n",
        "ax.set_axis_off()\n",
        "ax.set_title('Historical Wind Data across Chicago Neighborhoods')\n",
        "plt.tight_layout()"
      ],
      "id": "b6cb2b16",
      "execution_count": null,
      "outputs": []
    },
    {
      "cell_type": "code",
      "metadata": {},
      "source": [
        "chiwind.explore(column='hist')"
      ],
      "id": "fbf4feca",
      "execution_count": null,
      "outputs": []
    },
    {
      "cell_type": "code",
      "metadata": {},
      "source": [
        "_, ax = plt.subplots()\n",
        "ax = chiwind.plot(column='hist', scheme='quantiles', k=8, ax=ax)\n",
        "_ = ax.set_title('WindSpeed, historical')\n",
        "ax.set_axis_off()\n",
        "plt.tight_layout()"
      ],
      "id": "cef7d2ca",
      "execution_count": null,
      "outputs": []
    },
    {
      "cell_type": "code",
      "metadata": {},
      "source": [
        "fig, ax = plt.subplots()\n",
        "ax = chiwind.plot(column='rcp45_midc', scheme='quantiles', k=3, ax=ax)\n",
        "ax.set_axis_off()\n",
        "_ = ax.set_title('WindSpeed, Mid-Century [RCP45]')\n",
        "plt.tight_layout()"
      ],
      "id": "95b39454",
      "execution_count": null,
      "outputs": []
    },
    {
      "cell_type": "code",
      "metadata": {},
      "source": [
        "fig, ax = plt.subplots()\n",
        "ax = chiwind.plot(column='rcp45_endc', scheme='quantiles', k=3, ax=ax)\n",
        "_ = ax.set_title('WindSpeed, End-Century [RCP45]')\n",
        "plt.tight_layout()"
      ],
      "id": "86745a77",
      "execution_count": null,
      "outputs": []
    },
    {
      "cell_type": "code",
      "metadata": {},
      "source": [
        "fig, ax = plt.subplots(ncols=3, figsize=(16, 7))\n",
        "ax0 = chiwind.plot('hist', ax=ax[0])\n",
        "ax1 = chiwind.plot('rcp45_midc', ax=ax[1])\n",
        "ax2 = chiwind.plot('rcp45_midc', ax=ax[2])\n",
        "ax0.set_axis_off()\n",
        "ax1.set_axis_off()\n",
        "ax2.set_axis_off()"
      ],
      "id": "7f34ddbd",
      "execution_count": null,
      "outputs": []
    },
    {
      "cell_type": "code",
      "metadata": {},
      "source": [
        "data['WindSpeed'].shape"
      ],
      "id": "e55e79a6",
      "execution_count": null,
      "outputs": []
    },
    {
      "cell_type": "code",
      "metadata": {},
      "source": [
        "selection = shape[0:5]\n",
        "\n",
        "for index, row in selection.iterrows():\n",
        "    # get the area of the polygon\n",
        "    poly_area = row['geometry'].area\n",
        "    console.print(f\"Polygon area at {index} is {poly_area:.3f}\")"
      ],
      "id": "5c5107e4",
      "execution_count": null,
      "outputs": []
    }
  ],
  "metadata": {
    "kernelspec": {
      "name": "climrr",
      "language": "python",
      "display_name": "ClimRR [py3.11-CPU]"
    }
  },
  "nbformat": 4,
  "nbformat_minor": 5
}