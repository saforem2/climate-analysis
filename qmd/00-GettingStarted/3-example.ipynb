{
  "cells": [
    {
      "cell_type": "raw",
      "metadata": {},
      "source": [
        "---\n",
        "callout-appearance: simple\n",
        "editor:\n",
        "  render-on-save: true\n",
        "execute:\n",
        "  freeze: true\n",
        "---"
      ],
      "id": "8cec9ecf"
    },
    {
      "cell_type": "markdown",
      "metadata": {},
      "source": [
        "# Example: Groceries in Chicago\n"
      ],
      "id": "d85b09f8"
    },
    {
      "cell_type": "code",
      "metadata": {},
      "source": [
        "#| echo: false\n",
        "%matplotlib inline\n",
        "import matplotlib_inline\n",
        "import matplotlib.pyplot as plt\n",
        "import geopandas as gpd\n",
        "import warnings\n",
        "import geodatasets\n",
        "\n",
        "import matplotlib.pyplot as plt\n",
        "\n",
        "matplotlib_inline.backend_inline.set_matplotlib_formats('svg')\n",
        "\n",
        "from ClimRR import set_plot_style, COLORS\n",
        "set_plot_style()\n",
        "from rich.console import Console as Console\n",
        "from enrich.style import STYLES\n",
        "from rich.theme import Theme\n",
        "\n",
        "import matplotlib.pyplot as plt\n",
        "import geopandas as gpd\n",
        "from shapely.geometry import box\n",
        "import geodatasets\n",
        "\n",
        "console = Console(theme=Theme(STYLES), log_path=False, markup=True)\n",
        "chicago = gpd.read_file(geodatasets.get_path(\"geoda.chicago_commpop\"))\n",
        "groceries = gpd.read_file(geodatasets.get_path(\"geoda.groceries\")).to_crs(chicago.crs)"
      ],
      "id": "198ea65d",
      "execution_count": null,
      "outputs": []
    },
    {
      "cell_type": "markdown",
      "metadata": {},
      "source": [
        "We will walk through an example that demonstrates how to clip geometries to the\n",
        "boundary of a polygon geometry using GeoPandas.\n",
        "\n",
        "<!-- :::: {.columns layout-valign=\"center\"} -->\n",
        "<!---->\n",
        "<!-- ::: {.column width=\"50%\"} -->\n",
        "\n",
        "::: {layout-ncol=2 layout-valign=\"center\"}\n",
        "\n",
        "::: {}\n",
        "\n",
        "::: {.callout-note title=\"Target Goals\" collapse=\"false\" style=\"width:100%;\"}\n",
        "\n",
        "- Can you identify which neighborhoods have the most grocery stores? How many?\n",
        "    - Which have the least? How many?\n",
        "\n",
        ":::\n",
        "\n",
        "This example shows how to clip a set of vector geometries to the spatial extent\n",
        "/ shape of another object.\n",
        "\n",
        "Both sets of geometries must be opened with `GeoPandas` as `GeoDataFrame`s and\n",
        "be in the same **Coordinate Reference System** (`CRS`) for the `clip` function\n",
        "from `GeoPandas` to work.\n",
        "\n",
        "This example uses data from `geodatasets`, namely:\n",
        "\n",
        "- `geoda.chicago-health`\n",
        "- `geoda.groceries`\n",
        "\n",
        "alongside a custom rectangle geometry made with shapely and then turned into a\n",
        "`GeoDataFrame`.\n",
        "\n",
        "::: {.callout-warning title=\"Warning\" collapse=\"false\"}\n",
        "\n",
        "The object to be clipped will be clipped to the full extent of the clip object.  \n",
        "If there are multiple polygons in clip object, the input data will be clipped\n",
        "to the total boundary of all polygons in clip object.\n",
        ":::\n",
        "\n",
        ":::\n",
        "\n",
        "::: {#fig-groceries}\n"
      ],
      "id": "f428c658"
    },
    {
      "cell_type": "code",
      "metadata": {},
      "source": [
        "#| echo: false\n",
        "#| code-fold: true\n",
        "import matplotlib.pyplot as plt\n",
        "\n",
        "# polygon = box(-87.8, 41.9, -87.5, 42)\n",
        "# poly_gdf = gpd.GeoDataFrame([1], geometry=[polygon], crs=chicago.crs)\n",
        "\n",
        "fig, ax = plt.subplots(figsize=(14, 6))\n",
        "# poly_gdf.boundary.plot(ax=ax, color=COLORS['red'])\n",
        "chicago.boundary.plot(ax=ax, color=COLORS['grey060'], linewidth=0.6, zorder=-1)\n",
        "# near_west_side.boundary.plot(ax=ax2, color=COLORS['red'])\n",
        "# near_west_side.plot(ax=ax2, color=COLORS['green'], alpha=0.3)\n",
        "# west_town.plot(ax=ax2, color=COLORS['green'], alpha=0.3)\n",
        "chicago.plot(ax=ax, alpha=0.0)\n",
        "# poly_gdf.boundary.plot(ax=ax, color=COLORS['red'])\n",
        "chicago.boundary.plot(ax=ax, color=COLORS['grey060'], linewidth=0.6, zorder=-1)\n",
        "groceries.plot(ax=ax, color=COLORS['red'], zorder=1, marker='.', alpha=0.88)\n",
        "ax.set_title(\"Grocery Stores in Chicago\", fontsize=20)\n",
        "ax.set_axis_off()\n",
        "plt.tight_layout()"
      ],
      "id": "ebe16675",
      "execution_count": null,
      "outputs": []
    },
    {
      "cell_type": "markdown",
      "metadata": {},
      "source": [
        "A map showing the neighborhoods of Chicago as well as the location of various\n",
        "grocery stores.\n",
        "\n",
        ":::\n",
        "\n",
        ":::\n",
        "\n",
        "<!-- ::: -->\n",
        "<!---->\n",
        "<!-- :::: -->\n",
        "\n",
        "\n",
        "## Imports\n"
      ],
      "id": "a5b704f4"
    },
    {
      "cell_type": "code",
      "metadata": {},
      "source": [
        "import matplotlib.pyplot as plt\n",
        "import geopandas as gpd\n",
        "from shapely.geometry import box\n",
        "import geodatasets"
      ],
      "id": "264554c4",
      "execution_count": null,
      "outputs": []
    },
    {
      "cell_type": "markdown",
      "metadata": {},
      "source": [
        "## Get or Create Example Data\n",
        "\n",
        "Below, the example GeoPandas data is imported and opened as a `GeoDataFrame`.\n",
        "\n",
        "Additionally, a polygon is created with shapely and then converted into a\n",
        "`GeoDataFrame` with the same CRS as the `GeoPandas` dataset\n"
      ],
      "id": "955593ba"
    },
    {
      "cell_type": "code",
      "metadata": {},
      "source": [
        "import geodatasets\n",
        "chicago = gpd.read_file(geodatasets.get_path(\"geoda.chicago_commpop\"))\n",
        "groceries = gpd.read_file(geodatasets.get_path(\"geoda.groceries\")).to_crs(chicago.crs)"
      ],
      "id": "c484a6d1",
      "execution_count": null,
      "outputs": []
    },
    {
      "cell_type": "markdown",
      "metadata": {},
      "source": [
        "Create a subset of the chicago data that is just the near west side\n"
      ],
      "id": "30c9d7d5"
    },
    {
      "cell_type": "code",
      "metadata": {},
      "source": [
        "near_west_side = chicago[chicago[\"community\"] == \"NEAR WEST SIDE\"]\n",
        "lincoln_park = chicago[chicago[\"community\"] == \"LINCOLN PARK\"]\n",
        "logan_square = chicago[chicago[\"community\"] == \"LOGAN SQUARE\"]"
      ],
      "id": "f30b71cd",
      "execution_count": null,
      "outputs": []
    },
    {
      "cell_type": "markdown",
      "metadata": {},
      "source": [
        "Create a custom polygon\n"
      ],
      "id": "ebe5755f"
    },
    {
      "cell_type": "code",
      "metadata": {},
      "source": [
        "polygon = box(-87.8, 41.9, -87.5, 42)\n",
        "poly_gdf = gpd.GeoDataFrame([1], geometry=[polygon], crs=chicago.crs)"
      ],
      "id": "16cab4ff",
      "execution_count": null,
      "outputs": []
    },
    {
      "cell_type": "markdown",
      "metadata": {},
      "source": [
        "## Plot the Unclipped Data\n"
      ],
      "id": "fedbbc45"
    },
    {
      "cell_type": "code",
      "metadata": {},
      "source": [
        "fig, (ax1, ax2) = plt.subplots(figsize=(14, 6), ncols=2, sharey='col')\n",
        "poly_gdf.boundary.plot(ax=ax1, color=COLORS['red'])\n",
        "chicago.boundary.plot(ax=ax1, color=COLORS['grey060'], linewidth=0.6, zorder=-1)\n",
        "# near_west_side.boundary.plot(ax=ax2, color=COLORS['red'])\n",
        "# near_west_side.plot(ax=ax2, color=COLORS['green'], alpha=0.3)\n",
        "# west_town.plot(ax=ax2, color=COLORS['green'], alpha=0.3)\n",
        "chicago.plot(ax=ax1, alpha=0.4)\n",
        "poly_gdf.boundary.plot(ax=ax2, color=COLORS['red'])\n",
        "chicago.boundary.plot(ax=ax2, color=COLORS['grey060'], linewidth=0.6, zorder=-1)\n",
        "groceries.plot(ax=ax2, color=COLORS['blue'], zorder=1, marker='.', alpha=0.66)\n",
        "ax1.set_title(\"All Unclipped Chicago Communities\", fontsize=20)\n",
        "ax2.set_title(\"All Unclipped Groceries\", fontsize=20)\n",
        "ax1.set_axis_off()\n",
        "ax2.set_axis_off()\n",
        "plt.tight_layout()"
      ],
      "id": "f670ea37",
      "execution_count": null,
      "outputs": []
    },
    {
      "cell_type": "markdown",
      "metadata": {},
      "source": [
        "## Clip the Data\n",
        "\n",
        "The object on which you call `clip` is the object that will be clipped.\n",
        "\n",
        "The object you pass is the clip extent.\n",
        "\n",
        "The returned output will be a new clipped `GeoDataFrame`. All of the attributes\n",
        "for each returned geometry will be retained when you clip.\n",
        "\n",
        "::: {.callout-tip title=\"Coordinate Reference System\" collapse=\"false\"}\n",
        "\n",
        "Recall that the data must be in the same CRS in order to use the `clip` method.\n",
        "\n",
        "If the data is not in the same CRS, be sure to use the `GeoDataFrame.to_crs`\n",
        "method to ensure both datasets are in the same CRS.\n",
        ":::\n",
        "\n",
        "## Clip the Chicago Data\n"
      ],
      "id": "a7c36db4"
    },
    {
      "cell_type": "code",
      "metadata": {},
      "source": [
        "chicago_clipped = chicago.clip(polygon)\n",
        "groceries_clipped = groceries.clip(polygon)\n",
        "# plot the clipped data\n",
        "fig, ax = plt.subplots(figsize=(14, 6), ncols=2)\n",
        "ax0 = chicago_clipped.plot(ax=ax[0], color='C0', alpha=0.66)\n",
        "ax0 = chicago.boundary.plot(ax=ax[0], color=COLORS['grey060'], zorder=-1, linewidth=0.6)\n",
        "ax0 = poly_gdf.boundary.plot(ax=ax[0], color=COLORS['red'])\n",
        "\n",
        "ax1 = groceries_clipped.plot(ax=ax[1], color='C1', alpha=0.66, zorder=10, marker='.')\n",
        "# chicago.boundary.plot(ax=ax[1], color='#444444')\n",
        "ax1 = chicago.boundary.plot(ax=ax[1], color=COLORS['grey060'], zorder=-1, linewidth=0.6)\n",
        "ax1 = poly_gdf.boundary.plot(ax=ax[1], color=COLORS['red'])\n",
        "\n",
        "ax0.set_title(\"Chicago Clipped\", fontsize=20)\n",
        "ax0.set_axis_off()\n",
        "ax1.set_title(\"Groceries Clipped\", fontsize=20)\n",
        "ax1.set_axis_off()\n",
        "plt.tight_layout()"
      ],
      "id": "e2bcb193",
      "execution_count": null,
      "outputs": []
    },
    {
      "cell_type": "markdown",
      "metadata": {},
      "source": [
        "## Clip the Groceries Data\n",
        "\n",
        "Next we'll look at the distribution of grocery stores in two different communities.\n"
      ],
      "id": "fafc0e17"
    },
    {
      "cell_type": "code",
      "metadata": {},
      "source": [
        "fig, (ax1, ax2) = plt.subplots(figsize=(14, 6), ncols=2, sharey='col')\n",
        "chicago.boundary.plot(ax=ax1, color=COLORS['grey060'], linewidth=0.6, zorder=-1)\n",
        "near_west_side.boundary.plot(ax=ax2, color=COLORS['red'])\n",
        "near_west_side.plot(ax=ax2, color=COLORS['green'], alpha=0.3)\n",
        "\n",
        "logan_square.boundary.plot(ax=ax2, color=COLORS['red'])\n",
        "logan_square.plot(ax=ax2, color=COLORS['green'], alpha=0.3)\n",
        "# west_town.plot(ax=ax2, color=COLORS['green'], alpha=0.3)\n",
        "chicago.plot(ax=ax1, alpha=0.4)\n",
        "chicago.boundary.plot(ax=ax2, color=COLORS['grey060'], linewidth=0.6, zorder=-1)\n",
        "groceries.plot(ax=ax2, color=COLORS['blue'], zorder=1, marker='.', alpha=0.66)\n",
        "ax1.set_title(\"All Unclipped Chicago Communities\", fontsize=20)\n",
        "ax2.set_title(\"All Unclipped Groceries\", fontsize=20)\n",
        "ax1.set_axis_off()\n",
        "ax2.set_axis_off()\n",
        "plt.tight_layout()"
      ],
      "id": "33806c1b",
      "execution_count": null,
      "outputs": []
    },
    {
      "cell_type": "markdown",
      "metadata": {},
      "source": [
        "## Groceries in Near West Side\n"
      ],
      "id": "8cef705f"
    },
    {
      "cell_type": "code",
      "metadata": {},
      "source": [
        "groceries_west_side = groceries.clip(near_west_side)\n",
        "fig, ax = plt.subplots(figsize=(14,6))\n",
        "groceries_west_side.plot(ax=ax, color='C2', marker='.', alpha=0.6)\n",
        "chicago.boundary.plot(ax=ax, color=COLORS['grey060'], linewidth=0.6, zorder=-1)\n",
        "near_west_side.boundary.plot(ax=ax, color='#444444')\n",
        "near_west_side.boundary.plot(ax=ax, color=COLORS['red'])\n",
        "near_west_side.plot(ax=ax, color=COLORS['green'], alpha=0.3)\n",
        "ax.set_title(\"Groceries in the Near West Side\")\n",
        "ax.set_axis_off()"
      ],
      "id": "c1e5a952",
      "execution_count": null,
      "outputs": []
    },
    {
      "cell_type": "markdown",
      "metadata": {},
      "source": [
        "## Groceries in Logan Square\n"
      ],
      "id": "d1f9154a"
    },
    {
      "cell_type": "code",
      "metadata": {},
      "source": [
        "groceries_logan_square = groceries.clip(logan_square)\n",
        "fig, ax = plt.subplots(figsize=(14,6))\n",
        "groceries_logan_square.plot(ax=ax, color='C2', marker='.', alpha=0.6)\n",
        "chicago.boundary.plot(ax=ax, color=COLORS['grey060'], linewidth=0.6, zorder=-1)\n",
        "logan_square.boundary.plot(ax=ax, color='#444444')\n",
        "logan_square.boundary.plot(ax=ax, color=COLORS['red'])\n",
        "logan_square.plot(ax=ax, color=COLORS['green'], alpha=0.3)\n",
        "ax.set_title(\"Groceries in Logan Square\")\n",
        "ax.set_axis_off()"
      ],
      "id": "0b844d5b",
      "execution_count": null,
      "outputs": []
    },
    {
      "cell_type": "markdown",
      "metadata": {},
      "source": [
        "## Groceries in Lincoln Park\n"
      ],
      "id": "a0608153"
    },
    {
      "cell_type": "code",
      "metadata": {},
      "source": [
        "groceries_lp = groceries.clip(lincoln_park)\n",
        "fig, ax = plt.subplots(figsize=(14,6))\n",
        "groceries_lp.plot(ax=ax, color='C2')\n",
        "chicago.boundary.plot(ax=ax, color=COLORS['grey060'], linewidth=0.6, zorder=-1)\n",
        "lincoln_park.boundary.plot(ax=ax, color='#444444')\n",
        "lincoln_park.boundary.plot(ax=ax, color=COLORS['red'])\n",
        "lincoln_park.plot(ax=ax, color=COLORS['green'], alpha=0.3)\n",
        "ax.set_title(\"Groceries in Lincoln Park\")\n",
        "ax.set_axis_off()"
      ],
      "id": "8b22abed",
      "execution_count": null,
      "outputs": []
    },
    {
      "cell_type": "markdown",
      "metadata": {},
      "source": [
        "## Additional Questions\n",
        "\n",
        "- Can you identify which neighborhoods have the most grocery stores? How many?\n",
        "    - Which have the least? How many?\n",
        "\n",
        "## Reference\n",
        "\n",
        "[GeoPandas: Clip Vector Data](https://geopandas.org/en/stable/gallery/plot_clip.html)"
      ],
      "id": "e5f59fe4"
    }
  ],
  "metadata": {
    "kernelspec": {
      "name": "climrr",
      "language": "python",
      "display_name": "ClimRR [py3.11-CPU]"
    }
  },
  "nbformat": 4,
  "nbformat_minor": 5
}