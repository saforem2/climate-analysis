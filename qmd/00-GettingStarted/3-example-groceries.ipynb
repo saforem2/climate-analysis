{
  "cells": [
    {
      "cell_type": "raw",
      "metadata": {},
      "source": [
        "---\n",
        "callout-appearance: simple\n",
        "editor:\n",
        "  render-on-save: true\n",
        "execute:\n",
        "  freeze: true\n",
        "---"
      ],
      "id": "245b492f"
    },
    {
      "cell_type": "markdown",
      "metadata": {},
      "source": [
        "# Example: Groceries in Chicago\n"
      ],
      "id": "0cf0dc26"
    },
    {
      "cell_type": "code",
      "metadata": {},
      "source": [
        "#| code-summary: Imports\n",
        "#| code-fold: true\n",
        "from rich.console import Console as Console\n",
        "from enrich.style import STYLES\n",
        "from rich.theme import Theme\n",
        "console = Console(theme=Theme(STYLES), log_path=False, markup=True)"
      ],
      "id": "fa9bec4d",
      "execution_count": null,
      "outputs": []
    },
    {
      "cell_type": "markdown",
      "metadata": {},
      "source": [
        "::: {layout-ncol=2 layout-valign=\"top\"}\n",
        "\n",
        "::: {}\n",
        "\n",
        "We will walk through an example that demonstrates how to clip geometries to the\n",
        "boundary of a polygon geometry using GeoPandas.\n",
        "\n",
        "\n",
        "::: {.callout-note title=\"Target Goals\" collapse=\"false\" style=\"width:100%;\"}\n",
        "\n",
        "- Can you identify which neighborhoods have the most grocery stores? How many?\n",
        "    - Which have the least? How many?\n",
        "\n",
        ":::\n",
        "\n",
        "This example shows how to clip a set of vector geometries to the spatial extent\n",
        "/ shape of another object.\n",
        "\n",
        "Both sets of geometries must be opened with `GeoPandas` as `GeoDataFrame`s and\n",
        "be in the same **Coordinate Reference System** (`CRS`) for the `clip` function\n",
        "from `GeoPandas` to work.\n",
        "\n",
        "This example uses data from `geodatasets`, namely:\n",
        "\n",
        "- `geoda.chicago-health`\n",
        "- `geoda.groceries`\n",
        "\n",
        "alongside a custom rectangle geometry made with shapely and then turned into a\n",
        "`GeoDataFrame`.\n",
        "\n",
        ":::\n",
        "\n",
        "::: {#fig-groceries .r-stretch}\n"
      ],
      "id": "b88c7cc5"
    },
    {
      "cell_type": "code",
      "metadata": {},
      "source": [
        "#| echo: false\n",
        "#| code-fold: true\n",
        "#| code-summary: Plot\n",
        "import geodatasets\n",
        "import geopandas as gpd\n",
        "\n",
        "from ClimRR import set_plot_style, COLORS\n",
        "set_plot_style()\n",
        "\n",
        "chicago = gpd.read_file(geodatasets.get_path(\"geoda.chicago_commpop\"))\n",
        "groceries = gpd.read_file(geodatasets.get_path(\"geoda.groceries\")).to_crs(chicago.crs)\n",
        "\n",
        "# fig, ax = matplotlib.pyplot.subplots(figsize=(14, 6))\n",
        "ax = chicago.boundary.plot(color=COLORS['grey060'], linewidth=0.6, zorder=-1)\n",
        "chicago.plot(ax=ax, alpha=0.0)\n",
        "chicago.boundary.plot(ax=ax, color=COLORS['grey060'], linewidth=0.6, zorder=-1)\n",
        "groceries.plot(ax=ax, color=COLORS['red'], zorder=1, marker='.', alpha=0.88)\n",
        "ax.set_title(\"Grocery Stores in Chicago\", fontsize=20)\n",
        "ax.set_axis_off()\n",
        "# matplotlib.pyplot.tight_layout()"
      ],
      "id": "a43492e0",
      "execution_count": null,
      "outputs": []
    },
    {
      "cell_type": "markdown",
      "metadata": {},
      "source": [
        "A map showing the neighborhoods of Chicago as well as the location of various\n",
        "grocery stores.\n",
        "\n",
        ":::\n",
        "\n",
        ":::\n",
        "\n",
        "::: {.callout-warning title=\"Warning\" collapse=\"false\" style=\"width:100%;\"}\n",
        "\n",
        "The object to be clipped will be clipped to the full extent of the clip object.\n",
        "If there are multiple polygons in clip object, the input data will be clipped\n",
        "to the total boundary of all polygons in clip object.\n",
        "\n",
        ":::\n",
        "\n",
        "\n",
        "## Imports\n"
      ],
      "id": "0c8489f0"
    },
    {
      "cell_type": "code",
      "metadata": {},
      "source": [
        "%load_ext autoreload\n",
        "%autoreload 2\n",
        "%matplotlib inline\n",
        "import matplotlib_inline\n",
        "import matplotlib.pyplot as plt\n",
        "matplotlib_inline.backend_inline.set_matplotlib_formats('svg')\n",
        "\n",
        "import geopandas as gpd\n",
        "from shapely.geometry import box\n",
        "import geodatasets"
      ],
      "id": "605f3a6f",
      "execution_count": null,
      "outputs": []
    },
    {
      "cell_type": "markdown",
      "metadata": {},
      "source": [
        "## Get or Create Example Data\n",
        "\n",
        "Below, the example GeoPandas data is imported and opened as a `GeoDataFrame`.\n",
        "\n",
        "Additionally, a polygon is created with shapely and then converted into a\n",
        "`GeoDataFrame` with the same CRS as the `GeoPandas` dataset\n"
      ],
      "id": "23a77397"
    },
    {
      "cell_type": "code",
      "metadata": {},
      "source": [
        "import geodatasets\n",
        "chicago = gpd.read_file(geodatasets.get_path(\"geoda.chicago_commpop\"))\n",
        "groceries = gpd.read_file(geodatasets.get_path(\"geoda.groceries\")).to_crs(chicago.crs)"
      ],
      "id": "05fd7e7c",
      "execution_count": null,
      "outputs": []
    },
    {
      "cell_type": "markdown",
      "metadata": {},
      "source": [
        "Create a subset of the chicago data that is just the near west side\n"
      ],
      "id": "97e28c8d"
    },
    {
      "cell_type": "code",
      "metadata": {},
      "source": [
        "near_west_side = chicago[chicago[\"community\"] == \"NEAR WEST SIDE\"]\n",
        "lincoln_park = chicago[chicago[\"community\"] == \"LINCOLN PARK\"]\n",
        "logan_square = chicago[chicago[\"community\"] == \"LOGAN SQUARE\"]"
      ],
      "id": "e3b7f53e",
      "execution_count": null,
      "outputs": []
    },
    {
      "cell_type": "markdown",
      "metadata": {},
      "source": [
        "Create a custom polygon\n"
      ],
      "id": "218dfeab"
    },
    {
      "cell_type": "code",
      "metadata": {},
      "source": [
        "polygon = box(-87.8, 41.9, -87.5, 42)\n",
        "poly_gdf = gpd.GeoDataFrame([1], geometry=[polygon], crs=chicago.crs)"
      ],
      "id": "e530d00a",
      "execution_count": null,
      "outputs": []
    },
    {
      "cell_type": "markdown",
      "metadata": {},
      "source": [
        "## Plot the Unclipped Data\n"
      ],
      "id": "242d9c6c"
    },
    {
      "cell_type": "code",
      "metadata": {},
      "source": [
        "fig, (ax1, ax2) = plt.subplots(figsize=(14, 6), ncols=2, sharey='col')\n",
        "poly_gdf.boundary.plot(ax=ax1, color=COLORS['red'])\n",
        "chicago.boundary.plot(ax=ax1, color=COLORS['grey060'], linewidth=0.6, zorder=-1)\n",
        "# near_west_side.boundary.plot(ax=ax2, color=COLORS['red'])\n",
        "# near_west_side.plot(ax=ax2, color=COLORS['green'], alpha=0.3)\n",
        "# west_town.plot(ax=ax2, color=COLORS['green'], alpha=0.3)\n",
        "chicago.plot(ax=ax1, alpha=0.4)\n",
        "poly_gdf.boundary.plot(ax=ax2, color=COLORS['red'])\n",
        "chicago.boundary.plot(ax=ax2, color=COLORS['grey060'], linewidth=0.6, zorder=-1)\n",
        "groceries.plot(ax=ax2, color=COLORS['blue'], zorder=1, marker='.', alpha=0.66)\n",
        "ax1.set_title(\"All Unclipped Chicago Communities\", fontsize=20)\n",
        "ax2.set_title(\"All Unclipped Groceries\", fontsize=20)\n",
        "ax1.set_axis_off()\n",
        "ax2.set_axis_off()\n",
        "plt.tight_layout()"
      ],
      "id": "e7678476",
      "execution_count": null,
      "outputs": []
    },
    {
      "cell_type": "markdown",
      "metadata": {},
      "source": [
        "## Clip the Data\n",
        "\n",
        "The object on which you call `clip` is the object that will be clipped.\n",
        "\n",
        "The object you pass is the clip extent.\n",
        "\n",
        "The returned output will be a new clipped `GeoDataFrame`. All of the attributes\n",
        "for each returned geometry will be retained when you clip.\n",
        "\n",
        "::: {.callout-tip title=\"Coordinate Reference System\" collapse=\"false\"}\n",
        "\n",
        "Recall that the data must be in the same CRS in order to use the `clip` method.\n",
        "\n",
        "If the data is not in the same CRS, be sure to use the `GeoDataFrame.to_crs`\n",
        "method to ensure both datasets are in the same CRS.\n",
        ":::\n"
      ],
      "id": "e2d4499d"
    },
    {
      "cell_type": "code",
      "metadata": {},
      "source": [
        "# clip the data to the boundary of the polygon\n",
        "chicago_clipped = chicago.clip(polygon)\n",
        "groceries_clipped = groceries.clip(polygon)\n",
        "\n",
        "# create figure with two columns\n",
        "fig, ax = plt.subplots(figsize=(14, 6), ncols=2, sharey='col')\n",
        "\n",
        "# aggregate data into a dictionary for each column\n",
        "clipped = {\n",
        "    'chicago': {\n",
        "        'ax': ax[0],\n",
        "        'color': 'C0',\n",
        "        'marker': None,\n",
        "        'data': chicago_clipped,\n",
        "        'label': 'Chicago Clipped'\n",
        "    },\n",
        "    'groceries': {\n",
        "        'ax': ax[1],\n",
        "        'color': 'C1',\n",
        "        'marker': '.',\n",
        "        'data': groceries_clipped,\n",
        "        'label': 'Groceries Clipped'\n",
        "    }\n",
        "}\n",
        "\n",
        "# iterate over the dictionary, plotting\n",
        "# each entry in its own subplot (column)\n",
        "for key, val in clipped.items():\n",
        "    _ = val['data'].plot(\n",
        "        ax=val['ax'],\n",
        "        color=val['color'],\n",
        "        marker=val['marker'],\n",
        "        alpha=0.5,\n",
        "    )\n",
        "    _ = chicago.boundary.plot(\n",
        "        ax=val['ax'],\n",
        "        color=COLORS['grey060'],\n",
        "        zorder=-1,\n",
        "        linewidth=0.6\n",
        "    )\n",
        "    ax = poly_gdf.boundary.plot(\n",
        "        ax=val['ax'],\n",
        "        color=COLORS['red']\n",
        "    )\n",
        "    ax.set_title(val['label'], fontsize=20)\n",
        "    ax.set_axis_off()\n",
        "\n",
        "plt.tight_layout()"
      ],
      "id": "e6af355f",
      "execution_count": null,
      "outputs": []
    },
    {
      "cell_type": "markdown",
      "metadata": {},
      "source": [
        "## Clip the Groceries Data\n",
        "\n",
        "Next we'll look at the distribution of grocery stores in two different communities.\n",
        "\n",
        "::: {#fig-unclipped .r-stretch}\n"
      ],
      "id": "d0ea5acc"
    },
    {
      "cell_type": "code",
      "metadata": {},
      "source": [
        "fig, (ax1, ax2) = plt.subplots(figsize=(14, 6), ncols=2, sharey='col')\n",
        "\n",
        "chicago.plot(ax=ax1, alpha=0.4)\n",
        "\n",
        "# near_west_side.boundary.plot(ax=ax2, color=COLORS['red'])\n",
        "# logan_square.boundary.plot(ax=ax2, color=COLORS['red'])\n",
        "\n",
        "near_west_side.plot(ax=ax2, color=COLORS['red'], alpha=0.3)\n",
        "logan_square.plot(ax=ax2, color=COLORS['red'], alpha=0.3)\n",
        "\n",
        "chicago.boundary.plot(ax=ax1, color=COLORS['grey060'], linewidth=0.6, zorder=-1)\n",
        "chicago.boundary.plot(ax=ax2, color=COLORS['grey060'], linewidth=0.6, zorder=-1)\n",
        "\n",
        "groceries.plot(ax=ax2, color=COLORS['blue'], zorder=1, marker='.', alpha=0.66)\n",
        "ax1.set_title(\"Chicago Communities\", fontsize=20)\n",
        "ax2.set_title(\"Grocery Stores\", fontsize=20)\n",
        "ax1.set_axis_off()\n",
        "ax2.set_axis_off()\n",
        "plt.tight_layout()"
      ],
      "id": "2bd4956f",
      "execution_count": null,
      "outputs": []
    },
    {
      "cell_type": "markdown",
      "metadata": {},
      "source": [
        "Visualization of the communities of Chicago (left) and the locations of grocery stores throughout the city.\n",
        ":::\n",
        "\n",
        "\n",
        "## Groceries in Near West Side\n",
        "\n",
        "::: {.r-stretch}\n"
      ],
      "id": "8eced375"
    },
    {
      "cell_type": "code",
      "metadata": {},
      "source": [
        "groceries_west_side = groceries.clip(near_west_side)\n",
        "fig, ax = plt.subplots(figsize=(14, 6))\n",
        "groceries_west_side.plot(ax=ax, color='C2', marker='.', alpha=0.6)\n",
        "chicago.boundary.plot(ax=ax, color=COLORS['grey060'], linewidth=0.6, zorder=-1)\n",
        "near_west_side.boundary.plot(ax=ax, color='#444444')\n",
        "near_west_side.boundary.plot(ax=ax, color=COLORS['red'])\n",
        "near_west_side.plot(ax=ax, color=COLORS['green'], alpha=0.3)\n",
        "ax.set_title(\"Groceries in the Near West Side\")\n",
        "ax.set_axis_off()"
      ],
      "id": "97c8aa92",
      "execution_count": null,
      "outputs": []
    },
    {
      "cell_type": "markdown",
      "metadata": {},
      "source": [
        ":::\n",
        "\n",
        "## Groceries in Logan Square\n",
        "\n",
        "::: {.r-stretch}\n"
      ],
      "id": "996cf7db"
    },
    {
      "cell_type": "code",
      "metadata": {},
      "source": [
        "groceries_logan_square = groceries.clip(logan_square)\n",
        "fig, ax = plt.subplots(figsize=(14,6))\n",
        "groceries_logan_square.plot(ax=ax, color='C2', marker='.', alpha=0.6)\n",
        "chicago.boundary.plot(ax=ax, color=COLORS['grey060'], linewidth=0.6, zorder=-1)\n",
        "logan_square.boundary.plot(ax=ax, color='#444444')\n",
        "logan_square.boundary.plot(ax=ax, color=COLORS['red'])\n",
        "logan_square.plot(ax=ax, color=COLORS['green'], alpha=0.3)\n",
        "ax.set_title(\"Groceries in Logan Square\")\n",
        "ax.set_axis_off()"
      ],
      "id": "da762791",
      "execution_count": null,
      "outputs": []
    },
    {
      "cell_type": "markdown",
      "metadata": {},
      "source": [
        ":::\n",
        "\n",
        "## Groceries in Lincoln Park\n",
        "\n",
        "::: {.r-stretch}\n"
      ],
      "id": "3b9b2b02"
    },
    {
      "cell_type": "code",
      "metadata": {},
      "source": [
        "groceries_lp = groceries.clip(lincoln_park)\n",
        "fig, ax = plt.subplots(figsize=(14,6))\n",
        "groceries_lp.plot(ax=ax, color='C2')\n",
        "chicago.boundary.plot(ax=ax, color=COLORS['grey060'], linewidth=0.6, zorder=-1)\n",
        "lincoln_park.boundary.plot(ax=ax, color='#444444')\n",
        "lincoln_park.boundary.plot(ax=ax, color=COLORS['red'])\n",
        "lincoln_park.plot(ax=ax, color=COLORS['green'], alpha=0.3)\n",
        "ax.set_title(\"Groceries in Lincoln Park\")\n",
        "ax.set_axis_off()"
      ],
      "id": "2400e0a6",
      "execution_count": null,
      "outputs": []
    },
    {
      "cell_type": "markdown",
      "metadata": {},
      "source": [
        ":::\n",
        "\n",
        "## Additional Questions\n",
        "\n",
        "- Can you identify which neighborhoods have the most grocery stores? How many?\n",
        "    - Which have the least? How many?\n",
        "\n",
        "## Reference\n",
        "\n",
        "[GeoPandas: Clip Vector Data](https://geopandas.org/en/stable/gallery/plot_clip.html)"
      ],
      "id": "53fcabf9"
    }
  ],
  "metadata": {
    "kernelspec": {
      "name": "climrr",
      "language": "python",
      "display_name": "ClimRR [py3.11-CPU]"
    }
  },
  "nbformat": 4,
  "nbformat_minor": 5
}